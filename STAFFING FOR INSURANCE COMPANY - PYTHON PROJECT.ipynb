{
 "cells": [
  {
   "cell_type": "markdown",
   "id": "c8d75714",
   "metadata": {},
   "source": [
    "# STAFFING PLANNING OPTIMIZATION - CASE STUDY"
   ]
  },
  {
   "cell_type": "markdown",
   "id": "f5ea62c1",
   "metadata": {},
   "source": [
    "An insurance company wants you to help them with finding the optimal number of staff that they need for their insurance application approval process. In the industry, the number of staff is considered a continuous variable. This is also called a Full-Time Equivalent (FTE) of the staff. \n",
    "\n",
    "The company can either handle an application with the staff that they hire or outsource it to a vendor. Assume that there is no capacity limitation to outsourcing.\n",
    "\n",
    "If they hire staff, he/she can handle 40 insurance applications per month when he/she works 100% of the workdays. However, there are days that he/she will be unavailable to process applications due to training, off days, etc.\n",
    "\n",
    "States A and B have a regulatory restriction that the outsourced insurance applications cannot be more than 30% and 40% of the total number of applications for each month, respectively.\n",
    "\n",
    "The objective is to optimise the total cost for the application approval process by distributing the right number of applications between the FTEs and the vendors while meeting the monthly demand for each state at the same time.\n",
    "\n",
    "Note: This program focuses on the analysis of Staffing Optimization when employees works at the average FTE."
   ]
  },
  {
   "cell_type": "code",
   "execution_count": 1,
   "id": "579b4570",
   "metadata": {},
   "outputs": [],
   "source": [
    "import pandas as pd\n",
    "import numpy as np\n",
    "import math\n",
    "from pyomo.environ import *\n",
    "\n",
    "import warnings\n",
    "warnings.filterwarnings('ignore')"
   ]
  },
  {
   "cell_type": "code",
   "execution_count": 2,
   "id": "4eb1c2f2",
   "metadata": {},
   "outputs": [],
   "source": [
    "from __future__ import division\n",
    "from pyomo.opt import SolverFactory"
   ]
  },
  {
   "cell_type": "code",
   "execution_count": 4,
   "id": "83ba086d",
   "metadata": {},
   "outputs": [],
   "source": [
    "# Reading the data from Excel workbook - demand tab\n",
    "demand = pd.read_excel(\"/Users/rolanddelarosa/Downloads/StaffInsurance.xlsx\",sheet_name='DemandData')\n",
    "\n",
    "# Reading the data from Excel workbook - staff availablity tab\n",
    "staff_data = pd.read_excel(\"/Users/rolanddelarosa/Downloads/StaffInsurance.xlsx\",sheet_name='StaffAvailability')\n",
    "\n",
    "# Reading the data from Excel workbook - Cost\n",
    "cost = pd.read_excel(\"/Users/rolanddelarosa/Downloads/StaffInsurance.xlsx\",sheet_name='Cost')\n",
    "\n",
    "# Number of insurance applications that can be processed by an FTE in a month when working with 100% availability\n",
    "srv_rate = 40"
   ]
  },
  {
   "cell_type": "code",
   "execution_count": 5,
   "id": "fea5561e",
   "metadata": {},
   "outputs": [
    {
     "data": {
      "text/html": [
       "<div>\n",
       "<style scoped>\n",
       "    .dataframe tbody tr th:only-of-type {\n",
       "        vertical-align: middle;\n",
       "    }\n",
       "\n",
       "    .dataframe tbody tr th {\n",
       "        vertical-align: top;\n",
       "    }\n",
       "\n",
       "    .dataframe thead th {\n",
       "        text-align: right;\n",
       "    }\n",
       "</style>\n",
       "<table border=\"1\" class=\"dataframe\">\n",
       "  <thead>\n",
       "    <tr style=\"text-align: right;\">\n",
       "      <th></th>\n",
       "      <th>State</th>\n",
       "      <th>Month</th>\n",
       "      <th>Demand</th>\n",
       "    </tr>\n",
       "  </thead>\n",
       "  <tbody>\n",
       "    <tr>\n",
       "      <th>0</th>\n",
       "      <td>A</td>\n",
       "      <td>Jan</td>\n",
       "      <td>5240</td>\n",
       "    </tr>\n",
       "    <tr>\n",
       "      <th>1</th>\n",
       "      <td>A</td>\n",
       "      <td>Feb</td>\n",
       "      <td>4878</td>\n",
       "    </tr>\n",
       "    <tr>\n",
       "      <th>2</th>\n",
       "      <td>A</td>\n",
       "      <td>Mar</td>\n",
       "      <td>5942</td>\n",
       "    </tr>\n",
       "    <tr>\n",
       "      <th>3</th>\n",
       "      <td>A</td>\n",
       "      <td>Apr</td>\n",
       "      <td>2297</td>\n",
       "    </tr>\n",
       "    <tr>\n",
       "      <th>4</th>\n",
       "      <td>A</td>\n",
       "      <td>May</td>\n",
       "      <td>1992</td>\n",
       "    </tr>\n",
       "  </tbody>\n",
       "</table>\n",
       "</div>"
      ],
      "text/plain": [
       "  State Month  Demand\n",
       "0     A   Jan    5240\n",
       "1     A   Feb    4878\n",
       "2     A   Mar    5942\n",
       "3     A   Apr    2297\n",
       "4     A   May    1992"
      ]
     },
     "execution_count": 5,
     "metadata": {},
     "output_type": "execute_result"
    }
   ],
   "source": [
    "# Viewing the exported data\n",
    "demand.head()"
   ]
  },
  {
   "cell_type": "code",
   "execution_count": 6,
   "id": "f22a0711",
   "metadata": {},
   "outputs": [
    {
     "data": {
      "text/html": [
       "<div>\n",
       "<style scoped>\n",
       "    .dataframe tbody tr th:only-of-type {\n",
       "        vertical-align: middle;\n",
       "    }\n",
       "\n",
       "    .dataframe tbody tr th {\n",
       "        vertical-align: top;\n",
       "    }\n",
       "\n",
       "    .dataframe thead th {\n",
       "        text-align: right;\n",
       "    }\n",
       "</style>\n",
       "<table border=\"1\" class=\"dataframe\">\n",
       "  <thead>\n",
       "    <tr style=\"text-align: right;\">\n",
       "      <th></th>\n",
       "      <th>State</th>\n",
       "      <th>Month</th>\n",
       "      <th>LB</th>\n",
       "      <th>UB</th>\n",
       "      <th>StaffAvPer</th>\n",
       "    </tr>\n",
       "  </thead>\n",
       "  <tbody>\n",
       "    <tr>\n",
       "      <th>0</th>\n",
       "      <td>A</td>\n",
       "      <td>Jan</td>\n",
       "      <td>0.70</td>\n",
       "      <td>0.90</td>\n",
       "      <td>0.81</td>\n",
       "    </tr>\n",
       "    <tr>\n",
       "      <th>1</th>\n",
       "      <td>A</td>\n",
       "      <td>Feb</td>\n",
       "      <td>0.65</td>\n",
       "      <td>0.85</td>\n",
       "      <td>0.76</td>\n",
       "    </tr>\n",
       "    <tr>\n",
       "      <th>2</th>\n",
       "      <td>A</td>\n",
       "      <td>Mar</td>\n",
       "      <td>0.70</td>\n",
       "      <td>0.80</td>\n",
       "      <td>0.75</td>\n",
       "    </tr>\n",
       "    <tr>\n",
       "      <th>3</th>\n",
       "      <td>A</td>\n",
       "      <td>Apr</td>\n",
       "      <td>0.75</td>\n",
       "      <td>0.85</td>\n",
       "      <td>0.80</td>\n",
       "    </tr>\n",
       "    <tr>\n",
       "      <th>4</th>\n",
       "      <td>A</td>\n",
       "      <td>May</td>\n",
       "      <td>0.70</td>\n",
       "      <td>0.85</td>\n",
       "      <td>0.78</td>\n",
       "    </tr>\n",
       "  </tbody>\n",
       "</table>\n",
       "</div>"
      ],
      "text/plain": [
       "  State Month    LB    UB  StaffAvPer\n",
       "0     A   Jan  0.70  0.90        0.81\n",
       "1     A   Feb  0.65  0.85        0.76\n",
       "2     A   Mar  0.70  0.80        0.75\n",
       "3     A   Apr  0.75  0.85        0.80\n",
       "4     A   May  0.70  0.85        0.78"
      ]
     },
     "execution_count": 6,
     "metadata": {},
     "output_type": "execute_result"
    }
   ],
   "source": [
    "# Viewing the exported data\n",
    "staff_data.head()"
   ]
  },
  {
   "cell_type": "code",
   "execution_count": 7,
   "id": "a3d6001b",
   "metadata": {},
   "outputs": [
    {
     "data": {
      "text/html": [
       "<div>\n",
       "<style scoped>\n",
       "    .dataframe tbody tr th:only-of-type {\n",
       "        vertical-align: middle;\n",
       "    }\n",
       "\n",
       "    .dataframe tbody tr th {\n",
       "        vertical-align: top;\n",
       "    }\n",
       "\n",
       "    .dataframe thead th {\n",
       "        text-align: right;\n",
       "    }\n",
       "</style>\n",
       "<table border=\"1\" class=\"dataframe\">\n",
       "  <thead>\n",
       "    <tr style=\"text-align: right;\">\n",
       "      <th></th>\n",
       "      <th>State</th>\n",
       "      <th>Month</th>\n",
       "      <th>AnnualSalary</th>\n",
       "      <th>MonthlySalary</th>\n",
       "      <th>UnitOutSourceCost</th>\n",
       "    </tr>\n",
       "  </thead>\n",
       "  <tbody>\n",
       "    <tr>\n",
       "      <th>0</th>\n",
       "      <td>A</td>\n",
       "      <td>Jan</td>\n",
       "      <td>60000</td>\n",
       "      <td>5000.0</td>\n",
       "      <td>180</td>\n",
       "    </tr>\n",
       "    <tr>\n",
       "      <th>1</th>\n",
       "      <td>A</td>\n",
       "      <td>Feb</td>\n",
       "      <td>60000</td>\n",
       "      <td>5000.0</td>\n",
       "      <td>180</td>\n",
       "    </tr>\n",
       "    <tr>\n",
       "      <th>2</th>\n",
       "      <td>A</td>\n",
       "      <td>Mar</td>\n",
       "      <td>60000</td>\n",
       "      <td>5000.0</td>\n",
       "      <td>180</td>\n",
       "    </tr>\n",
       "    <tr>\n",
       "      <th>3</th>\n",
       "      <td>A</td>\n",
       "      <td>Apr</td>\n",
       "      <td>60000</td>\n",
       "      <td>5000.0</td>\n",
       "      <td>180</td>\n",
       "    </tr>\n",
       "    <tr>\n",
       "      <th>4</th>\n",
       "      <td>A</td>\n",
       "      <td>May</td>\n",
       "      <td>60000</td>\n",
       "      <td>5000.0</td>\n",
       "      <td>180</td>\n",
       "    </tr>\n",
       "  </tbody>\n",
       "</table>\n",
       "</div>"
      ],
      "text/plain": [
       "  State Month  AnnualSalary  MonthlySalary  UnitOutSourceCost\n",
       "0     A   Jan         60000         5000.0                180\n",
       "1     A   Feb         60000         5000.0                180\n",
       "2     A   Mar         60000         5000.0                180\n",
       "3     A   Apr         60000         5000.0                180\n",
       "4     A   May         60000         5000.0                180"
      ]
     },
     "execution_count": 7,
     "metadata": {},
     "output_type": "execute_result"
    }
   ],
   "source": [
    "# Viewing the exported data\n",
    "cost.head()"
   ]
  },
  {
   "cell_type": "markdown",
   "id": "d85c2643",
   "metadata": {},
   "source": [
    "Data Pre-processing"
   ]
  },
  {
   "cell_type": "code",
   "execution_count": 8,
   "id": "1cafb96d",
   "metadata": {},
   "outputs": [
    {
     "name": "stdout",
     "output_type": "stream",
     "text": [
      "state : ['A' 'B' 'C']\n",
      "months : ['Jan' 'Feb' 'Mar' 'Apr' 'May' 'Jun' 'Jul' 'Aug' 'Sep' 'Oct' 'Nov' 'Dec']\n"
     ]
    }
   ],
   "source": [
    "# Creating unique index values from the dataset\n",
    "month_name = demand['Month'].unique()\n",
    "state_name = demand['State'].unique()\n",
    "print(\"state :\",state_name)\n",
    "print(\"months :\",month_name)"
   ]
  },
  {
   "cell_type": "code",
   "execution_count": 9,
   "id": "9ccebf98",
   "metadata": {},
   "outputs": [],
   "source": [
    "# Creating dict for the required parameters with [State, Month] as indexes\n",
    "\n",
    "#Application Demand across State & Month\n",
    "Demand_data = demand.set_index(['State','Month'])['Demand'].to_dict()\n",
    "\n",
    "# Cost per Application for Outsource \n",
    "OutsourceRate = cost.set_index(['State','Month'])['UnitOutSourceCost'].to_dict()\n",
    "\n",
    "# Cost for FTE monthly salary \n",
    "StaffMsal = cost.set_index(['State','Month'])['MonthlySalary'].to_dict()\n",
    "\n",
    "# Staff availabilty for serving the Insurance - regular scenario , Lower bound , Upper bound scenario\n",
    "StaffAvPer_data = staff_data.set_index(['State','Month'])['StaffAvPer'].to_dict()\n",
    "StaffLB_data = staff_data.set_index(['State','Month'])['LB'].to_dict()\n",
    "StaffUB_data = staff_data.set_index(['State','Month'])['UB'].to_dict()\n",
    "\n",
    "Staff_app_permonth = 40"
   ]
  },
  {
   "cell_type": "markdown",
   "id": "a546e09f",
   "metadata": {},
   "source": [
    "Question 1\n",
    "\n",
    "The company wants to know the optimised staffing recommendations for the business case described. Write the mathematical model for the deterministic optimisation problem. Define and explain your decision variables, objective function and the constraint. (Hint: Use months of the year as the model timeline)."
   ]
  },
  {
   "cell_type": "markdown",
   "id": "9c244b7c",
   "metadata": {},
   "source": [
    "Answer to Question 1"
   ]
  },
  {
   "cell_type": "markdown",
   "id": "0eec29d6",
   "metadata": {},
   "source": [
    "Objective: The objective of the case study is to identify the optimal number of staff between Employees & Outsource such as to minimize the total cost for application approval process"
   ]
  },
  {
   "cell_type": "markdown",
   "id": "83106435",
   "metadata": {},
   "source": [
    "Case Study Objective :\n",
    "\n",
    "The objective of the case study is to identify the optimal number of staff between Employees & Outsource such as to minimize the total cost for application approval process\n",
    "\n",
    "Decision Variables :\n",
    "\n",
    "The objective indicates towards requirement of Cost & Count for developing the mathematical equation of the Objective Function. For Outsource - the cost is provided at per application basis & hence the 1st Variable  will be No. of Applications from Outsource named - Outsource_appl across states & months For Employess - the cost is provided as monthly salary & hence the  will be No. of FTE named - FTE_count across states & months\n",
    "\n",
    "Objective Function :\n",
    "\n",
    "To minimize the total cost for application approval process the Objective function will be :\n",
    "\n",
    "x * 40 * a + y = D\n",
    "\n",
    "where,\n",
    "\n",
    "S = States\n",
    "M = Months\n",
    "c = Staff monthly salary\n",
    "x = no. of FTE\n",
    "O = Outsource Cost\n",
    "y = No. of applications by outsource\n",
    "a = Staff Availability %\n",
    "D = Application Demand\n",
    "40 = No. of Application per month by staff incase of 100% availability\n",
    "Constraints\n",
    "\n",
    "1. Demand per month per state\n",
    "\n",
    "Before we create the Demand Constraint, we need to calculate a variable for No. of Applications being processed by FTEs.\n",
    "- FTE_Appl = No. of FTE * StaffAvPer_data * Staff_app_permonth Demand_Constraint = FTE_Appl + Outsource_appl for each month for each state\n",
    "\n",
    "\n",
    "2. Maximum Outsource for State A\n",
    "\n",
    "State A can only provide 30% of the total application demand to outsource\n",
    "\n",
    "3. Maximum Outsource for State B\n",
    "\n",
    "State B can only provide 40% of the total application demand to outsource"
   ]
  },
  {
   "cell_type": "markdown",
   "id": "b0ae7bf2",
   "metadata": {},
   "source": [
    "Question 2\n",
    "\n",
    "Code the problem is Python and use any optimization package to solve it. Add comments to your code to explain each step.\n",
    "\n",
    "Expected output:\n",
    "\n",
    "Create a data frame containing the number of outsourced applications and the number of FTEs for each state-month combination. You can choose to have extra columns like staff availability, demand etc. in your dataframe apart from the ones mentioned earlier."
   ]
  },
  {
   "cell_type": "code",
   "execution_count": 10,
   "id": "99865077",
   "metadata": {},
   "outputs": [],
   "source": [
    "# Creating a model instance\n",
    "model = ConcreteModel()"
   ]
  },
  {
   "cell_type": "markdown",
   "id": "89e67ef2",
   "metadata": {},
   "source": [
    "Pyomo sets and Parameters"
   ]
  },
  {
   "cell_type": "code",
   "execution_count": 11,
   "id": "1bdc4c01",
   "metadata": {},
   "outputs": [],
   "source": [
    "# Initializing month & state for usage in loops ahead\n",
    "model.location = Set(initialize = state_name.tolist(),doc = 'States')\n",
    "model.months = Set(initialize=month_name.tolist(), doc = 'Months')"
   ]
  },
  {
   "cell_type": "code",
   "execution_count": 12,
   "id": "887e911c",
   "metadata": {},
   "outputs": [
    {
     "name": "stdout",
     "output_type": "stream",
     "text": [
      "location : States\n",
      "    Size=1, Index=None, Ordered=Insertion\n",
      "    Key  : Dimen : Domain : Size : Members\n",
      "    None :     1 :    Any :    3 : {'A', 'B', 'C'}\n"
     ]
    }
   ],
   "source": [
    "model.location.display()"
   ]
  },
  {
   "cell_type": "code",
   "execution_count": 13,
   "id": "9f1ac03c",
   "metadata": {},
   "outputs": [
    {
     "name": "stdout",
     "output_type": "stream",
     "text": [
      "d : Demand\n",
      "    Size=36, Index=d_index, Domain=Any, Default=None, Mutable=False\n",
      "    Key          : Value\n",
      "    ('A', 'Apr') :  2297\n",
      "    ('A', 'Aug') :  3371\n",
      "    ('A', 'Dec') :  5183\n",
      "    ('A', 'Feb') :  4878\n",
      "    ('A', 'Jan') :  5240\n",
      "    ('A', 'Jul') :  5334\n",
      "    ('A', 'Jun') :  2275\n",
      "    ('A', 'Mar') :  5942\n",
      "    ('A', 'May') :  1992\n",
      "    ('A', 'Nov') :  4284\n",
      "    ('A', 'Oct') :  3529\n",
      "    ('A', 'Sep') :  3759\n",
      "    ('B', 'Apr') :  2338\n",
      "    ('B', 'Aug') :  2620\n",
      "    ('B', 'Dec') :  4227\n",
      "    ('B', 'Feb') :  2628\n",
      "    ('B', 'Jan') :  4927\n",
      "    ('B', 'Jul') :  4271\n",
      "    ('B', 'Jun') :  3147\n",
      "    ('B', 'Mar') :  2974\n",
      "    ('B', 'May') :  4020\n",
      "    ('B', 'Nov') :  3137\n",
      "    ('B', 'Oct') :  4155\n",
      "    ('B', 'Sep') :  4517\n",
      "    ('C', 'Apr') :  2261\n",
      "    ('C', 'Aug') :  2496\n",
      "    ('C', 'Dec') :  1998\n",
      "    ('C', 'Feb') :  1967\n",
      "    ('C', 'Jan') :  1162\n",
      "    ('C', 'Jul') :  2489\n",
      "    ('C', 'Jun') :  1642\n",
      "    ('C', 'Mar') :  1898\n",
      "    ('C', 'May') :  2030\n",
      "    ('C', 'Nov') :   963\n",
      "    ('C', 'Oct') :  2421\n",
      "    ('C', 'Sep') :   922\n"
     ]
    }
   ],
   "source": [
    "# Defining model Parameter for Demand across months & states\n",
    "model.d = Param(model.location, model.months, initialize = Demand_data, doc = 'Demand')\n",
    "model.d.display()"
   ]
  },
  {
   "cell_type": "code",
   "execution_count": 14,
   "id": "be5bcbee",
   "metadata": {},
   "outputs": [
    {
     "name": "stdout",
     "output_type": "stream",
     "text": [
      "avail : Staff_Availability\n",
      "    Size=36, Index=avail_index, Domain=Any, Default=None, Mutable=False\n",
      "    Key          : Value\n",
      "    ('A', 'Apr') :   0.8\n",
      "    ('A', 'Aug') :  0.76\n",
      "    ('A', 'Dec') :  0.65\n",
      "    ('A', 'Feb') :  0.76\n",
      "    ('A', 'Jan') :  0.81\n",
      "    ('A', 'Jul') :  0.68\n",
      "    ('A', 'Jun') :  0.73\n",
      "    ('A', 'Mar') :  0.75\n",
      "    ('A', 'May') :  0.78\n",
      "    ('A', 'Nov') :  0.68\n",
      "    ('A', 'Oct') :  0.73\n",
      "    ('A', 'Sep') :  0.81\n",
      "    ('B', 'Apr') :   0.8\n",
      "    ('B', 'Aug') :  0.76\n",
      "    ('B', 'Dec') :  0.65\n",
      "    ('B', 'Feb') :  0.76\n",
      "    ('B', 'Jan') :  0.81\n",
      "    ('B', 'Jul') :  0.68\n",
      "    ('B', 'Jun') :  0.73\n",
      "    ('B', 'Mar') :  0.75\n",
      "    ('B', 'May') :  0.78\n",
      "    ('B', 'Nov') :  0.68\n",
      "    ('B', 'Oct') :  0.73\n",
      "    ('B', 'Sep') :  0.81\n",
      "    ('C', 'Apr') :   0.8\n",
      "    ('C', 'Aug') :  0.76\n",
      "    ('C', 'Dec') :  0.65\n",
      "    ('C', 'Feb') :  0.76\n",
      "    ('C', 'Jan') :  0.81\n",
      "    ('C', 'Jul') :  0.68\n",
      "    ('C', 'Jun') :  0.73\n",
      "    ('C', 'Mar') :  0.75\n",
      "    ('C', 'May') :  0.78\n",
      "    ('C', 'Nov') :  0.68\n",
      "    ('C', 'Oct') :  0.73\n",
      "    ('C', 'Sep') :  0.81\n"
     ]
    }
   ],
   "source": [
    "# Defining model Parameter for Staff Availability across months & states\n",
    "model.avail = Param(model.location, model.months, initialize = StaffAvPer_data, doc = 'Staff_Availability')\n",
    "model.avail.display()"
   ]
  },
  {
   "cell_type": "code",
   "execution_count": 15,
   "id": "d6e0dead",
   "metadata": {},
   "outputs": [
    {
     "name": "stdout",
     "output_type": "stream",
     "text": [
      "staffsalary : Staff Monthly Salary\n",
      "    Size=36, Index=staffsalary_index, Domain=Any, Default=None, Mutable=False\n",
      "    Key          : Value\n",
      "    ('A', 'Apr') :            5000.0\n",
      "    ('A', 'Aug') :            5000.0\n",
      "    ('A', 'Dec') :            5000.0\n",
      "    ('A', 'Feb') :            5000.0\n",
      "    ('A', 'Jan') :            5000.0\n",
      "    ('A', 'Jul') :            5000.0\n",
      "    ('A', 'Jun') :            5000.0\n",
      "    ('A', 'Mar') :            5000.0\n",
      "    ('A', 'May') :            5000.0\n",
      "    ('A', 'Nov') :            5000.0\n",
      "    ('A', 'Oct') :            5000.0\n",
      "    ('A', 'Sep') :            5000.0\n",
      "    ('B', 'Apr') : 4583.333333333333\n",
      "    ('B', 'Aug') : 4583.333333333333\n",
      "    ('B', 'Dec') : 4583.333333333333\n",
      "    ('B', 'Feb') : 4583.333333333333\n",
      "    ('B', 'Jan') : 4583.333333333333\n",
      "    ('B', 'Jul') : 4583.333333333333\n",
      "    ('B', 'Jun') : 4583.333333333333\n",
      "    ('B', 'Mar') : 4583.333333333333\n",
      "    ('B', 'May') : 4583.333333333333\n",
      "    ('B', 'Nov') : 4583.333333333333\n",
      "    ('B', 'Oct') : 4583.333333333333\n",
      "    ('B', 'Sep') : 4583.333333333333\n",
      "    ('C', 'Apr') : 4416.666666666667\n",
      "    ('C', 'Aug') : 4416.666666666667\n",
      "    ('C', 'Dec') : 4416.666666666667\n",
      "    ('C', 'Feb') : 4416.666666666667\n",
      "    ('C', 'Jan') : 4416.666666666667\n",
      "    ('C', 'Jul') : 4416.666666666667\n",
      "    ('C', 'Jun') : 4416.666666666667\n",
      "    ('C', 'Mar') : 4416.666666666667\n",
      "    ('C', 'May') : 4416.666666666667\n",
      "    ('C', 'Nov') : 4416.666666666667\n",
      "    ('C', 'Oct') : 4416.666666666667\n",
      "    ('C', 'Sep') : 4416.666666666667\n"
     ]
    }
   ],
   "source": [
    "# Defining model Parameter for Staff Monthly Salary across months & states\n",
    "model.staffsalary = Param(model.location,model.months, initialize=StaffMsal, doc='Staff Monthly Salary')\n",
    "model.staffsalary.display()\n"
   ]
  },
  {
   "cell_type": "code",
   "execution_count": 16,
   "id": "fe95bc50",
   "metadata": {},
   "outputs": [
    {
     "name": "stdout",
     "output_type": "stream",
     "text": [
      "outsourcecost : Outsource Cost\n",
      "    Size=36, Index=outsourcecost_index, Domain=Any, Default=None, Mutable=False\n",
      "    Key          : Value\n",
      "    ('A', 'Apr') :   180\n",
      "    ('A', 'Aug') :   180\n",
      "    ('A', 'Dec') :   180\n",
      "    ('A', 'Feb') :   180\n",
      "    ('A', 'Jan') :   180\n",
      "    ('A', 'Jul') :   180\n",
      "    ('A', 'Jun') :   180\n",
      "    ('A', 'Mar') :   180\n",
      "    ('A', 'May') :   180\n",
      "    ('A', 'Nov') :   180\n",
      "    ('A', 'Oct') :   180\n",
      "    ('A', 'Sep') :   180\n",
      "    ('B', 'Apr') :   150\n",
      "    ('B', 'Aug') :   150\n",
      "    ('B', 'Dec') :   150\n",
      "    ('B', 'Feb') :   150\n",
      "    ('B', 'Jan') :   150\n",
      "    ('B', 'Jul') :   150\n",
      "    ('B', 'Jun') :   150\n",
      "    ('B', 'Mar') :   150\n",
      "    ('B', 'May') :   150\n",
      "    ('B', 'Nov') :   150\n",
      "    ('B', 'Oct') :   150\n",
      "    ('B', 'Sep') :   150\n",
      "    ('C', 'Apr') :   160\n",
      "    ('C', 'Aug') :   160\n",
      "    ('C', 'Dec') :   160\n",
      "    ('C', 'Feb') :   160\n",
      "    ('C', 'Jan') :   160\n",
      "    ('C', 'Jul') :   160\n",
      "    ('C', 'Jun') :   160\n",
      "    ('C', 'Mar') :   160\n",
      "    ('C', 'May') :   160\n",
      "    ('C', 'Nov') :   160\n",
      "    ('C', 'Oct') :   160\n",
      "    ('C', 'Sep') :   160\n"
     ]
    }
   ],
   "source": [
    "# Defining model Parameter for Outsource Cost across months & states\n",
    "model.outsourcecost = Param(model.location, model.months, initialize = OutsourceRate, doc = 'Outsource Cost')\n",
    "model.outsourcecost.display()"
   ]
  },
  {
   "cell_type": "markdown",
   "id": "b55a3ae0",
   "metadata": {},
   "source": [
    "Decision Variables"
   ]
  },
  {
   "cell_type": "code",
   "execution_count": 17,
   "id": "f9958cda",
   "metadata": {},
   "outputs": [],
   "source": [
    "# Decision variables\n",
    "model.x = Var(model.location, model.months, domain=NonNegativeReals, doc='No. of FTE')\n",
    "model.y = Var(model.location, model.months, domain=NonNegativeIntegers, doc='No. of Outsource Appl.')"
   ]
  },
  {
   "cell_type": "markdown",
   "id": "bf8fc155",
   "metadata": {},
   "source": [
    "Objective Function"
   ]
  },
  {
   "cell_type": "code",
   "execution_count": 18,
   "id": "80c4b0c5",
   "metadata": {},
   "outputs": [],
   "source": [
    "obj = 0\n",
    "def obj_rule(model):\n",
    "    global obj\n",
    "    for l in model.location:\n",
    "        for m in model.months:\n",
    "            # formula used is : (Outsource Appl * per Appl cost for Outsource) + (no. of FTEs * Monthly Salary)\n",
    "            obj+=(model.y[l,m]*model.outsourcecost[l,m])+(model.x[l,m]*model.staffsalary[l,m])\n",
    "    return obj\n",
    "model.output = Objective(rule=obj_rule, sense= minimize)"
   ]
  },
  {
   "cell_type": "markdown",
   "id": "16d91ccf",
   "metadata": {},
   "source": [
    "Constraints - Demand Constraint"
   ]
  },
  {
   "cell_type": "code",
   "execution_count": 19,
   "id": "8878d03d",
   "metadata": {},
   "outputs": [],
   "source": [
    "model.ddConst = ConstraintList()\n",
    "for l in model.location:\n",
    "    for m in model.months:\n",
    "        model.ddConst.add(expr = model.y[l,m] + model.x[l,m]*(model.avail[l,m]*40) == model.d[l,m]) \n",
    "        # Demand = No. of Outsource Applications + (FTE count* Max Application,i.e.,'40' * Staff Availability %)"
   ]
  },
  {
   "cell_type": "markdown",
   "id": "ad35a4f6",
   "metadata": {},
   "source": [
    "Constraints - State A Outsourcing Constraint"
   ]
  },
  {
   "cell_type": "code",
   "execution_count": 20,
   "id": "f8a28521",
   "metadata": {},
   "outputs": [],
   "source": [
    "model.statelimit = ConstraintList()\n",
    "\n",
    "for l in model.location:\n",
    "    for m in model.months:\n",
    "        if l == 'A':\n",
    "            model.statelimit.add(expr = model.y[l,m] <= 0.3*model.d[l,m])\n",
    "        elif l == 'B':\n",
    "            model.statelimit.add(expr = model.y[l,m] <= 0.4*model.d[l,m])\n",
    "        else:\n",
    "            pass"
   ]
  },
  {
   "cell_type": "markdown",
   "id": "c7c61a64",
   "metadata": {},
   "source": [
    "Invoking Solver"
   ]
  },
  {
   "cell_type": "code",
   "execution_count": 21,
   "id": "a68341d9",
   "metadata": {},
   "outputs": [
    {
     "name": "stdout",
     "output_type": "stream",
     "text": [
      "# ==========================================================\n",
      "# = Solver Results                                         =\n",
      "# ==========================================================\n",
      "# ----------------------------------------------------------\n",
      "#   Problem Information\n",
      "# ----------------------------------------------------------\n",
      "Problem: \n",
      "- Name: unknown\n",
      "  Lower bound: 17962336.4487699\n",
      "  Upper bound: 17962336.4487699\n",
      "  Number of objectives: 1\n",
      "  Number of constraints: 60\n",
      "  Number of variables: 72\n",
      "  Number of nonzeros: 96\n",
      "  Sense: minimize\n",
      "# ----------------------------------------------------------\n",
      "#   Solver Information\n",
      "# ----------------------------------------------------------\n",
      "Solver: \n",
      "- Status: ok\n",
      "  Termination condition: optimal\n",
      "  Statistics: \n",
      "    Branch and bound: \n",
      "      Number of bounded subproblems: 0\n",
      "      Number of created subproblems: 0\n",
      "  Error rc: 0\n",
      "  Time: 0.01031494140625\n",
      "# ----------------------------------------------------------\n",
      "#   Solution Information\n",
      "# ----------------------------------------------------------\n",
      "Solution: \n",
      "- number of solutions: 0\n",
      "  number of solutions displayed: 0\n"
     ]
    }
   ],
   "source": [
    "from pyomo.opt import SolverFactory\n",
    "\n",
    "# Specify the full path to the glpsol executable\n",
    "solver_path = '/opt/homebrew/bin/glpsol' \n",
    "\n",
    "# Invoking the solver\n",
    "result = SolverFactory('glpk', executable=solver_path).solve(model)\n",
    "result.write()"
   ]
  },
  {
   "cell_type": "code",
   "execution_count": 22,
   "id": "56dac78c",
   "metadata": {},
   "outputs": [
    {
     "data": {
      "text/plain": [
       "17.962336"
      ]
     },
     "execution_count": 22,
     "metadata": {},
     "output_type": "execute_result"
    }
   ],
   "source": [
    "# Print the value of the objective function (converting the output to million)\n",
    "base_cost = int(model.output())/10**6\n",
    "base_cost"
   ]
  },
  {
   "cell_type": "markdown",
   "id": "3dcceb72",
   "metadata": {},
   "source": [
    "The company has to spend approzimately around 17.9 m$ in total for the application approval process."
   ]
  },
  {
   "cell_type": "code",
   "execution_count": 23,
   "id": "a2372683",
   "metadata": {},
   "outputs": [
    {
     "name": "stdout",
     "output_type": "stream",
     "text": [
      "[['A', 'Jan', 162, 0.0], ['A', 'Feb', 160, 0.0], ['A', 'Mar', 198, 0.0], ['A', 'Apr', 72, 0.0], ['A', 'May', 64, 0.0], ['A', 'Jun', 78, 0.0], ['A', 'Jul', 137, 1600.0], ['A', 'Aug', 111, 0.0], ['A', 'Sep', 116, 0.0], ['A', 'Oct', 121, 0.0], ['A', 'Nov', 110, 1285.0], ['A', 'Dec', 140, 1554.0], ['B', 'Jan', 152, 0.0], ['B', 'Feb', 52, 1051.0], ['B', 'Mar', 60, 1189.0], ['B', 'Apr', 73, 0.0], ['B', 'May', 129, 0.0], ['B', 'Jun', 65, 1258.0], ['B', 'Jul', 94, 1708.0], ['B', 'Aug', 52, 1048.0], ['B', 'Sep', 139, 0.0], ['B', 'Oct', 85, 1662.0], ['B', 'Nov', 69, 1254.0], ['B', 'Dec', 98, 1690.0], ['C', 'Jan', 36, 0.0], ['C', 'Feb', 65, 0.0], ['C', 'Mar', 63, 0.0], ['C', 'Apr', 71, 0.0], ['C', 'May', 65, 0.0], ['C', 'Jun', 56, 0.0], ['C', 'Jul', 0, 2489.0], ['C', 'Aug', 82, 0.0], ['C', 'Sep', 28, 0.0], ['C', 'Oct', 83, 0.0], ['C', 'Nov', 0, 963.0], ['C', 'Dec', 0, 1998.0]]\n"
     ]
    }
   ],
   "source": [
    "# Creating dataframe for the results\n",
    "# optimal number of staff members for the Avg case scenario\n",
    "Avg_Output = []\n",
    "Avg_avilb = 0\n",
    "\n",
    "for l in model.location:\n",
    "    for m in model.months:\n",
    "        \n",
    "        # optimal no. of staff members for Avg Case scenario\n",
    "        Staff_count = (round(model.x[l,m].value))\n",
    "        \n",
    "        # outsourced applications% = no. of Outsource applications(stored in variable y) divide by total demand(stored in variable d)*100\n",
    "        Outsource_applications = (model.y[l,m].value)\n",
    "        \n",
    "        # Total Cost = cost of staff + Cost of   outsourced  applications\n",
    "                \n",
    "        Avg_Output.append([l,m, Staff_count, Outsource_applications])\n",
    "       \n",
    "                \n",
    "print(Avg_Output)\n"
   ]
  },
  {
   "cell_type": "code",
   "execution_count": 24,
   "id": "c6dd12b3",
   "metadata": {},
   "outputs": [
    {
     "data": {
      "text/html": [
       "<div>\n",
       "<style scoped>\n",
       "    .dataframe tbody tr th:only-of-type {\n",
       "        vertical-align: middle;\n",
       "    }\n",
       "\n",
       "    .dataframe tbody tr th {\n",
       "        vertical-align: top;\n",
       "    }\n",
       "\n",
       "    .dataframe thead th {\n",
       "        text-align: right;\n",
       "    }\n",
       "</style>\n",
       "<table border=\"1\" class=\"dataframe\">\n",
       "  <thead>\n",
       "    <tr style=\"text-align: right;\">\n",
       "      <th></th>\n",
       "      <th>State</th>\n",
       "      <th>Month</th>\n",
       "      <th>Optimal Staff_AvgCase</th>\n",
       "      <th>Out_Appl_AvgCase</th>\n",
       "    </tr>\n",
       "  </thead>\n",
       "  <tbody>\n",
       "    <tr>\n",
       "      <th>0</th>\n",
       "      <td>A</td>\n",
       "      <td>Jan</td>\n",
       "      <td>162</td>\n",
       "      <td>0.0</td>\n",
       "    </tr>\n",
       "    <tr>\n",
       "      <th>1</th>\n",
       "      <td>A</td>\n",
       "      <td>Feb</td>\n",
       "      <td>160</td>\n",
       "      <td>0.0</td>\n",
       "    </tr>\n",
       "    <tr>\n",
       "      <th>2</th>\n",
       "      <td>A</td>\n",
       "      <td>Mar</td>\n",
       "      <td>198</td>\n",
       "      <td>0.0</td>\n",
       "    </tr>\n",
       "    <tr>\n",
       "      <th>3</th>\n",
       "      <td>A</td>\n",
       "      <td>Apr</td>\n",
       "      <td>72</td>\n",
       "      <td>0.0</td>\n",
       "    </tr>\n",
       "    <tr>\n",
       "      <th>4</th>\n",
       "      <td>A</td>\n",
       "      <td>May</td>\n",
       "      <td>64</td>\n",
       "      <td>0.0</td>\n",
       "    </tr>\n",
       "    <tr>\n",
       "      <th>5</th>\n",
       "      <td>A</td>\n",
       "      <td>Jun</td>\n",
       "      <td>78</td>\n",
       "      <td>0.0</td>\n",
       "    </tr>\n",
       "    <tr>\n",
       "      <th>6</th>\n",
       "      <td>A</td>\n",
       "      <td>Jul</td>\n",
       "      <td>137</td>\n",
       "      <td>1600.0</td>\n",
       "    </tr>\n",
       "    <tr>\n",
       "      <th>7</th>\n",
       "      <td>A</td>\n",
       "      <td>Aug</td>\n",
       "      <td>111</td>\n",
       "      <td>0.0</td>\n",
       "    </tr>\n",
       "    <tr>\n",
       "      <th>8</th>\n",
       "      <td>A</td>\n",
       "      <td>Sep</td>\n",
       "      <td>116</td>\n",
       "      <td>0.0</td>\n",
       "    </tr>\n",
       "    <tr>\n",
       "      <th>9</th>\n",
       "      <td>A</td>\n",
       "      <td>Oct</td>\n",
       "      <td>121</td>\n",
       "      <td>0.0</td>\n",
       "    </tr>\n",
       "    <tr>\n",
       "      <th>10</th>\n",
       "      <td>A</td>\n",
       "      <td>Nov</td>\n",
       "      <td>110</td>\n",
       "      <td>1285.0</td>\n",
       "    </tr>\n",
       "    <tr>\n",
       "      <th>11</th>\n",
       "      <td>A</td>\n",
       "      <td>Dec</td>\n",
       "      <td>140</td>\n",
       "      <td>1554.0</td>\n",
       "    </tr>\n",
       "    <tr>\n",
       "      <th>12</th>\n",
       "      <td>B</td>\n",
       "      <td>Jan</td>\n",
       "      <td>152</td>\n",
       "      <td>0.0</td>\n",
       "    </tr>\n",
       "    <tr>\n",
       "      <th>13</th>\n",
       "      <td>B</td>\n",
       "      <td>Feb</td>\n",
       "      <td>52</td>\n",
       "      <td>1051.0</td>\n",
       "    </tr>\n",
       "    <tr>\n",
       "      <th>14</th>\n",
       "      <td>B</td>\n",
       "      <td>Mar</td>\n",
       "      <td>60</td>\n",
       "      <td>1189.0</td>\n",
       "    </tr>\n",
       "    <tr>\n",
       "      <th>15</th>\n",
       "      <td>B</td>\n",
       "      <td>Apr</td>\n",
       "      <td>73</td>\n",
       "      <td>0.0</td>\n",
       "    </tr>\n",
       "    <tr>\n",
       "      <th>16</th>\n",
       "      <td>B</td>\n",
       "      <td>May</td>\n",
       "      <td>129</td>\n",
       "      <td>0.0</td>\n",
       "    </tr>\n",
       "    <tr>\n",
       "      <th>17</th>\n",
       "      <td>B</td>\n",
       "      <td>Jun</td>\n",
       "      <td>65</td>\n",
       "      <td>1258.0</td>\n",
       "    </tr>\n",
       "    <tr>\n",
       "      <th>18</th>\n",
       "      <td>B</td>\n",
       "      <td>Jul</td>\n",
       "      <td>94</td>\n",
       "      <td>1708.0</td>\n",
       "    </tr>\n",
       "    <tr>\n",
       "      <th>19</th>\n",
       "      <td>B</td>\n",
       "      <td>Aug</td>\n",
       "      <td>52</td>\n",
       "      <td>1048.0</td>\n",
       "    </tr>\n",
       "    <tr>\n",
       "      <th>20</th>\n",
       "      <td>B</td>\n",
       "      <td>Sep</td>\n",
       "      <td>139</td>\n",
       "      <td>0.0</td>\n",
       "    </tr>\n",
       "    <tr>\n",
       "      <th>21</th>\n",
       "      <td>B</td>\n",
       "      <td>Oct</td>\n",
       "      <td>85</td>\n",
       "      <td>1662.0</td>\n",
       "    </tr>\n",
       "    <tr>\n",
       "      <th>22</th>\n",
       "      <td>B</td>\n",
       "      <td>Nov</td>\n",
       "      <td>69</td>\n",
       "      <td>1254.0</td>\n",
       "    </tr>\n",
       "    <tr>\n",
       "      <th>23</th>\n",
       "      <td>B</td>\n",
       "      <td>Dec</td>\n",
       "      <td>98</td>\n",
       "      <td>1690.0</td>\n",
       "    </tr>\n",
       "    <tr>\n",
       "      <th>24</th>\n",
       "      <td>C</td>\n",
       "      <td>Jan</td>\n",
       "      <td>36</td>\n",
       "      <td>0.0</td>\n",
       "    </tr>\n",
       "    <tr>\n",
       "      <th>25</th>\n",
       "      <td>C</td>\n",
       "      <td>Feb</td>\n",
       "      <td>65</td>\n",
       "      <td>0.0</td>\n",
       "    </tr>\n",
       "    <tr>\n",
       "      <th>26</th>\n",
       "      <td>C</td>\n",
       "      <td>Mar</td>\n",
       "      <td>63</td>\n",
       "      <td>0.0</td>\n",
       "    </tr>\n",
       "    <tr>\n",
       "      <th>27</th>\n",
       "      <td>C</td>\n",
       "      <td>Apr</td>\n",
       "      <td>71</td>\n",
       "      <td>0.0</td>\n",
       "    </tr>\n",
       "    <tr>\n",
       "      <th>28</th>\n",
       "      <td>C</td>\n",
       "      <td>May</td>\n",
       "      <td>65</td>\n",
       "      <td>0.0</td>\n",
       "    </tr>\n",
       "    <tr>\n",
       "      <th>29</th>\n",
       "      <td>C</td>\n",
       "      <td>Jun</td>\n",
       "      <td>56</td>\n",
       "      <td>0.0</td>\n",
       "    </tr>\n",
       "    <tr>\n",
       "      <th>30</th>\n",
       "      <td>C</td>\n",
       "      <td>Jul</td>\n",
       "      <td>0</td>\n",
       "      <td>2489.0</td>\n",
       "    </tr>\n",
       "    <tr>\n",
       "      <th>31</th>\n",
       "      <td>C</td>\n",
       "      <td>Aug</td>\n",
       "      <td>82</td>\n",
       "      <td>0.0</td>\n",
       "    </tr>\n",
       "    <tr>\n",
       "      <th>32</th>\n",
       "      <td>C</td>\n",
       "      <td>Sep</td>\n",
       "      <td>28</td>\n",
       "      <td>0.0</td>\n",
       "    </tr>\n",
       "    <tr>\n",
       "      <th>33</th>\n",
       "      <td>C</td>\n",
       "      <td>Oct</td>\n",
       "      <td>83</td>\n",
       "      <td>0.0</td>\n",
       "    </tr>\n",
       "    <tr>\n",
       "      <th>34</th>\n",
       "      <td>C</td>\n",
       "      <td>Nov</td>\n",
       "      <td>0</td>\n",
       "      <td>963.0</td>\n",
       "    </tr>\n",
       "    <tr>\n",
       "      <th>35</th>\n",
       "      <td>C</td>\n",
       "      <td>Dec</td>\n",
       "      <td>0</td>\n",
       "      <td>1998.0</td>\n",
       "    </tr>\n",
       "  </tbody>\n",
       "</table>\n",
       "</div>"
      ],
      "text/plain": [
       "   State Month  Optimal Staff_AvgCase  Out_Appl_AvgCase\n",
       "0      A   Jan                    162               0.0\n",
       "1      A   Feb                    160               0.0\n",
       "2      A   Mar                    198               0.0\n",
       "3      A   Apr                     72               0.0\n",
       "4      A   May                     64               0.0\n",
       "5      A   Jun                     78               0.0\n",
       "6      A   Jul                    137            1600.0\n",
       "7      A   Aug                    111               0.0\n",
       "8      A   Sep                    116               0.0\n",
       "9      A   Oct                    121               0.0\n",
       "10     A   Nov                    110            1285.0\n",
       "11     A   Dec                    140            1554.0\n",
       "12     B   Jan                    152               0.0\n",
       "13     B   Feb                     52            1051.0\n",
       "14     B   Mar                     60            1189.0\n",
       "15     B   Apr                     73               0.0\n",
       "16     B   May                    129               0.0\n",
       "17     B   Jun                     65            1258.0\n",
       "18     B   Jul                     94            1708.0\n",
       "19     B   Aug                     52            1048.0\n",
       "20     B   Sep                    139               0.0\n",
       "21     B   Oct                     85            1662.0\n",
       "22     B   Nov                     69            1254.0\n",
       "23     B   Dec                     98            1690.0\n",
       "24     C   Jan                     36               0.0\n",
       "25     C   Feb                     65               0.0\n",
       "26     C   Mar                     63               0.0\n",
       "27     C   Apr                     71               0.0\n",
       "28     C   May                     65               0.0\n",
       "29     C   Jun                     56               0.0\n",
       "30     C   Jul                      0            2489.0\n",
       "31     C   Aug                     82               0.0\n",
       "32     C   Sep                     28               0.0\n",
       "33     C   Oct                     83               0.0\n",
       "34     C   Nov                      0             963.0\n",
       "35     C   Dec                      0            1998.0"
      ]
     },
     "execution_count": 24,
     "metadata": {},
     "output_type": "execute_result"
    }
   ],
   "source": [
    "Avg_Output = pd.DataFrame(Avg_Output, columns=['State','Month','Optimal Staff_AvgCase','Out_Appl_AvgCase'])\n",
    "Avg_Output\n"
   ]
  },
  {
   "cell_type": "code",
   "execution_count": 25,
   "id": "bd5b3347",
   "metadata": {},
   "outputs": [],
   "source": [
    "# Importing the required library\n",
    "from openpyxl import load_workbook"
   ]
  },
  {
   "cell_type": "code",
   "execution_count": 28,
   "id": "9ef25f0b",
   "metadata": {},
   "outputs": [
    {
     "name": "stdout",
     "output_type": "stream",
     "text": [
      "DataFrame is written successfully to Excel Sheet.\n"
     ]
    }
   ],
   "source": [
    "# Writing the results in to an Excel sheet\n",
    "# Writing the output data into an Excel sheet named \"Staffing_Data.xlsx\" workbook\n",
    "\n",
    "\n",
    "book = load_workbook(\"/Users/rolanddelarosa/Downloads/StaffInsurance.xlsx\")\n",
    "\n",
    "# create excel writer object\n",
    "writer = pd.ExcelWriter(\"/Users/rolanddelarosa/Downloads/StaffInsurance.xlsx\", engine = 'openpyxl')\n",
    "\n",
    "\n",
    "#Assigning the workbook to the writer object\n",
    "writer.book = book\n",
    "\n",
    "\n",
    "# write dataframe to excel sheet named 'output'\n",
    "Avg_Output.to_excel(writer, sheet_name='Output_Staff_Planning_Avg')\n",
    "\n",
    "\n",
    "\n",
    "# save the excel file\n",
    "writer.save()\n",
    "print('DataFrame is written successfully to Excel Sheet.')"
   ]
  },
  {
   "cell_type": "code",
   "execution_count": 31,
   "id": "e4eec439",
   "metadata": {},
   "outputs": [
    {
     "data": {
      "text/html": [
       "<div>\n",
       "<style scoped>\n",
       "    .dataframe tbody tr th:only-of-type {\n",
       "        vertical-align: middle;\n",
       "    }\n",
       "\n",
       "    .dataframe tbody tr th {\n",
       "        vertical-align: top;\n",
       "    }\n",
       "\n",
       "    .dataframe thead th {\n",
       "        text-align: right;\n",
       "    }\n",
       "</style>\n",
       "<table border=\"1\" class=\"dataframe\">\n",
       "  <thead>\n",
       "    <tr style=\"text-align: right;\">\n",
       "      <th></th>\n",
       "      <th>Avg_cost_per_appl</th>\n",
       "      <th>tot_cost_per_appl</th>\n",
       "      <th>Overall Cost_in $mio</th>\n",
       "      <th>Outsource_Appl_count</th>\n",
       "    </tr>\n",
       "  </thead>\n",
       "  <tbody>\n",
       "    <tr>\n",
       "      <th>Base Scenario</th>\n",
       "      <td>155.9</td>\n",
       "      <td>5611.7</td>\n",
       "      <td>17.96</td>\n",
       "      <td>20749</td>\n",
       "    </tr>\n",
       "  </tbody>\n",
       "</table>\n",
       "</div>"
      ],
      "text/plain": [
       "               Avg_cost_per_appl  tot_cost_per_appl  Overall Cost_in $mio  \\\n",
       "Base Scenario              155.9             5611.7                 17.96   \n",
       "\n",
       "               Outsource_Appl_count  \n",
       "Base Scenario                 20749  "
      ]
     },
     "execution_count": 31,
     "metadata": {},
     "output_type": "execute_result"
    }
   ],
   "source": [
    "# creating dataframe to record the Overall output of Average Scenario for further scenario\n",
    "\n",
    "from statistics import mean\n",
    "final_output = []\n",
    "appl_cost = 0\n",
    "out_appl = 0\n",
    "for l in model.location:\n",
    "    for m in model.months:\n",
    "            \n",
    "            cost_per_appl=((model.y[l,m].value*model.outsourcecost[l,m])+(model.x[l,m].value*model.staffsalary[l,m]))/model.d[l,m]\n",
    "            appl_cost+=cost_per_appl\n",
    "            final_output.append(cost_per_appl)\n",
    "            out_appl+= model.y[l,m].value\n",
    "            \n",
    "base_mean = mean(final_output)\n",
    "overall_df = pd.DataFrame(data={(round(base_mean,1),round(appl_cost,1),round(base_cost,2),round(out_appl,))},index=['Base Scenario'],columns=['Avg_cost_per_appl','tot_cost_per_appl','Overall Cost_in $mio','Outsource_Appl_count'])\n",
    "overall_df"
   ]
  },
  {
   "cell_type": "code",
   "execution_count": 35,
   "id": "8c2b0354",
   "metadata": {},
   "outputs": [
    {
     "data": {
      "image/png": "[encoded data removed]",
      "text/plain": [
       "<Figure size 1200x600 with 1 Axes>"
      ]
     },
     "metadata": {},
     "output_type": "display_data"
    }
   ],
   "source": [
    "import matplotlib.pyplot as plt\n",
    "\n",
    "# Bar chart for optimal staff members\n",
    "plt.figure(figsize=(12, 6))\n",
    "for state in Avg_Output['State'].unique():\n",
    "    data = Avg_Output[Avg_Output['State'] == state]\n",
    "    plt.bar(data['Month'], data['Optimal Staff_AvgCase'], label=f'State {state}')\n",
    "\n",
    "plt.xlabel('Month')\n",
    "plt.ylabel('Optimal Staff Members')\n",
    "plt.title('Optimal Staff Members for Average Case Scenario')\n",
    "plt.legend()\n",
    "plt.xticks(rotation=45)\n",
    "plt.tight_layout()\n",
    "plt.show()\n"
   ]
  },
  {
   "cell_type": "code",
   "execution_count": 36,
   "id": "436abde8",
   "metadata": {},
   "outputs": [
    {
     "data": {
      "image/png": "[encoded data removed]",
      "text/plain": [
       "<Figure size 800x800 with 1 Axes>"
      ]
     },
     "metadata": {},
     "output_type": "display_data"
    }
   ],
   "source": [
    "# Pie chart for outsourced applications distribution\n",
    "outsourced_counts = Avg_Output.groupby('State')['Out_Appl_AvgCase'].sum()\n",
    "plt.figure(figsize=(8, 8))\n",
    "plt.pie(outsourced_counts, labels=outsourced_counts.index, autopct='%1.1f%%', startangle=140)\n",
    "plt.title('Distribution of Outsourced Applications Across States (Average Case Scenario)')\n",
    "plt.show()\n",
    "\n"
   ]
  },
  {
   "cell_type": "code",
   "execution_count": 39,
   "id": "eeeff8b2",
   "metadata": {},
   "outputs": [
    {
     "data": {
      "image/png": "[encoded data removed]",
      "text/plain": [
       "<Figure size 800x600 with 1 Axes>"
      ]
     },
     "metadata": {},
     "output_type": "display_data"
    }
   ],
   "source": [
    "import pandas as pd\n",
    "import matplotlib.pyplot as plt\n",
    "\n",
    "# Sample data (replace this with your actual data)\n",
    "data = {\n",
    "    'Month': ['Jan', 'Feb', 'Mar', 'Apr', 'May', 'Jun', 'Jul', 'Aug', 'Sep', 'Oct', 'Nov', 'Dec'],\n",
    "    'Optimal Staff_AvgCase': [162, 160, 198, 72, 64, 78, 137, 111, 116, 121, 110, 140],\n",
    "    'Staff Monthly Salary': [5000, 5000, 5000, 5000, 5000, 5000, 5000, 5000, 5000, 5000, 5000, 5000],\n",
    "    'Out_Appl_AvgCase': [0, 0, 0, 0, 0, 0, 1600, 0, 0, 0, 1285, 1554],\n",
    "    'UnitOutSourceCost': [180, 180, 180, 180, 180, 180, 180, 180, 180, 180, 180, 180]\n",
    "}\n",
    "\n",
    "Avg_Output = pd.DataFrame(data)\n",
    "\n",
    "# Calculate total cost\n",
    "Avg_Output['Total Cost'] = (Avg_Output['Optimal Staff_AvgCase'] * Avg_Output['Staff Monthly Salary'] +\n",
    "                            Avg_Output['Out_Appl_AvgCase'] * Avg_Output['UnitOutSourceCost'])\n",
    "\n",
    "# Line chart for total cost variation over months\n",
    "months = Avg_Output['Month']\n",
    "total_cost = Avg_Output['Total Cost']\n",
    "\n",
    "plt.figure(figsize=(8, 6))\n",
    "plt.plot(months, total_cost, marker='o', color='b', label='Total Cost')\n",
    "plt.xlabel('Month')\n",
    "plt.ylabel('Total Cost')\n",
    "plt.title('Total Cost Variation over Months (Average Case Scenario)')\n",
    "plt.xticks(rotation=45)\n",
    "plt.legend()\n",
    "plt.tight_layout()\n",
    "plt.show()\n"
   ]
  }
 ],
 "metadata": {
  "kernelspec": {
   "display_name": "Python 3 (ipykernel)",
   "language": "python",
   "name": "python3"
  },
  "language_info": {
   "codemirror_mode": {
    "name": "ipython",
    "version": 3
   },
   "file_extension": ".py",
   "mimetype": "text/x-python",
   "name": "python",
   "nbconvert_exporter": "python",
   "pygments_lexer": "ipython3",
   "version": "3.11.4"
  }
 },
 "nbformat": 4,
 "nbformat_minor": 5
}
