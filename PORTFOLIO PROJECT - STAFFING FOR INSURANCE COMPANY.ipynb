{
 "cells": [
  {
   "cell_type": "markdown",
   "id": "c8d75714",
   "metadata": {},
   "source": [
    "# STAFFING PLANNING OPTIMIZATION - CASE STUDY"
   ]
  },
  {
   "cell_type": "markdown",
   "id": "f5ea62c1",
   "metadata": {},
   "source": [
    "An insurance company wants you to help them with finding the optimal number of staff that they need for their insurance application approval process. In the industry, the number of staff is considered a continuous variable. This is also called a Full-Time Equivalent (FTE) of the staff. \n",
    "\n",
    "The company can either handle an application with the staff that they hire or outsource it to a vendor. Assume that there is no capacity limitation to outsourcing.\n",
    "\n",
    "If they hire staff, he/she can handle 40 insurance applications per month when he/she works 100% of the workdays. However, there are days that he/she will be unavailable to process applications due to training, off days, etc.\n",
    "\n",
    "States A and B have a regulatory restriction that the outsourced insurance applications cannot be more than 30% and 40% of the total number of applications for each month, respectively.\n",
    "\n",
    "The objective is to optimise the total cost for the application approval process by distributing the right number of applications between the FTEs and the vendors while meeting the monthly demand for each state at the same time.\n",
    "\n",
    "Note: This program focuses on the analysis of Staffing Optimization when employees works at the averafe FTE."
   ]
  },
  {
   "cell_type": "code",
   "execution_count": 43,
   "id": "579b4570",
   "metadata": {},
   "outputs": [],
   "source": [
    "import pandas as pd\n",
    "import numpy as np\n",
    "import math\n",
    "from pyomo.environ import *\n",
    "\n",
    "import warnings\n",
    "warnings.filterwarnings('ignore')"
   ]
  },
  {
   "cell_type": "code",
   "execution_count": 44,
   "id": "4eb1c2f2",
   "metadata": {},
   "outputs": [],
   "source": [
    "from __future__ import division\n",
    "from pyomo.opt import SolverFactory"
   ]
  },
  {
   "cell_type": "code",
   "execution_count": 45,
   "id": "83ba086d",
   "metadata": {},
   "outputs": [],
   "source": [
    "# Reading the data from Excel workbook - DemandData\n",
    "demand = pd.read_excel(\"/Users/rolanddelarosa/Desktop/StaffInsurance.xlsx\",sheet_name='DemandData')\n",
    "\n",
    "# Reading the data from Excel workbook - StaffAvailability\n",
    "staff_data = pd.read_excel(\"/Users/rolanddelarosa/Desktop/StaffInsurance.xlsx\",sheet_name='StaffAvailability')\n",
    "\n",
    "# Reading the data from Excel workbook - Cost\n",
    "cost = pd.read_excel(\"/Users/rolanddelarosa/Desktop/StaffInsurance.xlsx\",sheet_name='Cost')\n",
    "\n",
    "# Number of insurance applications that can be processed by an FTE in a month when working with 100% availability\n",
    "srv_rate = 40"
   ]
  },
  {
   "cell_type": "code",
   "execution_count": 46,
   "id": "fea5561e",
   "metadata": {},
   "outputs": [
    {
     "data": {
      "text/html": [
       "<div>\n",
       "<style scoped>\n",
       "    .dataframe tbody tr th:only-of-type {\n",
       "        vertical-align: middle;\n",
       "    }\n",
       "\n",
       "    .dataframe tbody tr th {\n",
       "        vertical-align: top;\n",
       "    }\n",
       "\n",
       "    .dataframe thead th {\n",
       "        text-align: right;\n",
       "    }\n",
       "</style>\n",
       "<table border=\"1\" class=\"dataframe\">\n",
       "  <thead>\n",
       "    <tr style=\"text-align: right;\">\n",
       "      <th></th>\n",
       "      <th>State</th>\n",
       "      <th>Month</th>\n",
       "      <th>Demand</th>\n",
       "    </tr>\n",
       "  </thead>\n",
       "  <tbody>\n",
       "    <tr>\n",
       "      <th>0</th>\n",
       "      <td>A</td>\n",
       "      <td>Jan</td>\n",
       "      <td>5240</td>\n",
       "    </tr>\n",
       "    <tr>\n",
       "      <th>1</th>\n",
       "      <td>A</td>\n",
       "      <td>Feb</td>\n",
       "      <td>4878</td>\n",
       "    </tr>\n",
       "    <tr>\n",
       "      <th>2</th>\n",
       "      <td>A</td>\n",
       "      <td>Mar</td>\n",
       "      <td>5942</td>\n",
       "    </tr>\n",
       "    <tr>\n",
       "      <th>3</th>\n",
       "      <td>A</td>\n",
       "      <td>Apr</td>\n",
       "      <td>2297</td>\n",
       "    </tr>\n",
       "    <tr>\n",
       "      <th>4</th>\n",
       "      <td>A</td>\n",
       "      <td>May</td>\n",
       "      <td>1992</td>\n",
       "    </tr>\n",
       "  </tbody>\n",
       "</table>\n",
       "</div>"
      ],
      "text/plain": [
       "  State Month  Demand\n",
       "0     A   Jan    5240\n",
       "1     A   Feb    4878\n",
       "2     A   Mar    5942\n",
       "3     A   Apr    2297\n",
       "4     A   May    1992"
      ]
     },
     "execution_count": 46,
     "metadata": {},
     "output_type": "execute_result"
    }
   ],
   "source": [
    "# Viewing the exported data\n",
    "demand.head()"
   ]
  },
  {
   "cell_type": "code",
   "execution_count": 47,
   "id": "f22a0711",
   "metadata": {},
   "outputs": [
    {
     "data": {
      "text/html": [
       "<div>\n",
       "<style scoped>\n",
       "    .dataframe tbody tr th:only-of-type {\n",
       "        vertical-align: middle;\n",
       "    }\n",
       "\n",
       "    .dataframe tbody tr th {\n",
       "        vertical-align: top;\n",
       "    }\n",
       "\n",
       "    .dataframe thead th {\n",
       "        text-align: right;\n",
       "    }\n",
       "</style>\n",
       "<table border=\"1\" class=\"dataframe\">\n",
       "  <thead>\n",
       "    <tr style=\"text-align: right;\">\n",
       "      <th></th>\n",
       "      <th>State</th>\n",
       "      <th>Month</th>\n",
       "      <th>LB</th>\n",
       "      <th>UB</th>\n",
       "      <th>StaffAvPer</th>\n",
       "    </tr>\n",
       "  </thead>\n",
       "  <tbody>\n",
       "    <tr>\n",
       "      <th>0</th>\n",
       "      <td>A</td>\n",
       "      <td>Jan</td>\n",
       "      <td>0.70</td>\n",
       "      <td>0.90</td>\n",
       "      <td>0.81</td>\n",
       "    </tr>\n",
       "    <tr>\n",
       "      <th>1</th>\n",
       "      <td>A</td>\n",
       "      <td>Feb</td>\n",
       "      <td>0.65</td>\n",
       "      <td>0.85</td>\n",
       "      <td>0.76</td>\n",
       "    </tr>\n",
       "    <tr>\n",
       "      <th>2</th>\n",
       "      <td>A</td>\n",
       "      <td>Mar</td>\n",
       "      <td>0.70</td>\n",
       "      <td>0.80</td>\n",
       "      <td>0.75</td>\n",
       "    </tr>\n",
       "    <tr>\n",
       "      <th>3</th>\n",
       "      <td>A</td>\n",
       "      <td>Apr</td>\n",
       "      <td>0.75</td>\n",
       "      <td>0.85</td>\n",
       "      <td>0.80</td>\n",
       "    </tr>\n",
       "    <tr>\n",
       "      <th>4</th>\n",
       "      <td>A</td>\n",
       "      <td>May</td>\n",
       "      <td>0.70</td>\n",
       "      <td>0.85</td>\n",
       "      <td>0.78</td>\n",
       "    </tr>\n",
       "  </tbody>\n",
       "</table>\n",
       "</div>"
      ],
      "text/plain": [
       "  State Month    LB    UB  StaffAvPer\n",
       "0     A   Jan  0.70  0.90        0.81\n",
       "1     A   Feb  0.65  0.85        0.76\n",
       "2     A   Mar  0.70  0.80        0.75\n",
       "3     A   Apr  0.75  0.85        0.80\n",
       "4     A   May  0.70  0.85        0.78"
      ]
     },
     "execution_count": 47,
     "metadata": {},
     "output_type": "execute_result"
    }
   ],
   "source": [
    "# Viewing the exported data\n",
    "staff_data.head()"
   ]
  },
  {
   "cell_type": "code",
   "execution_count": 48,
   "id": "a3d6001b",
   "metadata": {},
   "outputs": [
    {
     "data": {
      "text/html": [
       "<div>\n",
       "<style scoped>\n",
       "    .dataframe tbody tr th:only-of-type {\n",
       "        vertical-align: middle;\n",
       "    }\n",
       "\n",
       "    .dataframe tbody tr th {\n",
       "        vertical-align: top;\n",
       "    }\n",
       "\n",
       "    .dataframe thead th {\n",
       "        text-align: right;\n",
       "    }\n",
       "</style>\n",
       "<table border=\"1\" class=\"dataframe\">\n",
       "  <thead>\n",
       "    <tr style=\"text-align: right;\">\n",
       "      <th></th>\n",
       "      <th>State</th>\n",
       "      <th>Month</th>\n",
       "      <th>AnnualSalary</th>\n",
       "      <th>MonthlySalary</th>\n",
       "      <th>UnitOutSourceCost</th>\n",
       "    </tr>\n",
       "  </thead>\n",
       "  <tbody>\n",
       "    <tr>\n",
       "      <th>0</th>\n",
       "      <td>A</td>\n",
       "      <td>Jan</td>\n",
       "      <td>60000</td>\n",
       "      <td>NaN</td>\n",
       "      <td>180</td>\n",
       "    </tr>\n",
       "    <tr>\n",
       "      <th>1</th>\n",
       "      <td>A</td>\n",
       "      <td>Feb</td>\n",
       "      <td>60000</td>\n",
       "      <td>NaN</td>\n",
       "      <td>180</td>\n",
       "    </tr>\n",
       "    <tr>\n",
       "      <th>2</th>\n",
       "      <td>A</td>\n",
       "      <td>Mar</td>\n",
       "      <td>60000</td>\n",
       "      <td>NaN</td>\n",
       "      <td>180</td>\n",
       "    </tr>\n",
       "    <tr>\n",
       "      <th>3</th>\n",
       "      <td>A</td>\n",
       "      <td>Apr</td>\n",
       "      <td>60000</td>\n",
       "      <td>NaN</td>\n",
       "      <td>180</td>\n",
       "    </tr>\n",
       "    <tr>\n",
       "      <th>4</th>\n",
       "      <td>A</td>\n",
       "      <td>May</td>\n",
       "      <td>60000</td>\n",
       "      <td>NaN</td>\n",
       "      <td>180</td>\n",
       "    </tr>\n",
       "  </tbody>\n",
       "</table>\n",
       "</div>"
      ],
      "text/plain": [
       "  State Month  AnnualSalary  MonthlySalary  UnitOutSourceCost\n",
       "0     A   Jan         60000            NaN                180\n",
       "1     A   Feb         60000            NaN                180\n",
       "2     A   Mar         60000            NaN                180\n",
       "3     A   Apr         60000            NaN                180\n",
       "4     A   May         60000            NaN                180"
      ]
     },
     "execution_count": 48,
     "metadata": {},
     "output_type": "execute_result"
    }
   ],
   "source": [
    "# Viewing the exported data\n",
    "cost.head()"
   ]
  },
  {
   "cell_type": "markdown",
   "id": "d85c2643",
   "metadata": {},
   "source": [
    "Data Pre-processing"
   ]
  },
  {
   "cell_type": "code",
   "execution_count": 49,
   "id": "1cafb96d",
   "metadata": {},
   "outputs": [
    {
     "name": "stdout",
     "output_type": "stream",
     "text": [
      "state : ['A' 'B' 'C']\n",
      "months : ['Jan' 'Feb' 'Mar' 'Apr' 'May' 'Jun' 'Jul' 'Aug' 'Sep' 'Oct' 'Nov' 'Dec']\n"
     ]
    }
   ],
   "source": [
    "# Creating unique index values from the dataset\n",
    "month_name = demand['Month'].unique()\n",
    "state_name = demand['State'].unique()\n",
    "print(\"state :\",state_name)\n",
    "print(\"months :\",month_name)"
   ]
  },
  {
   "cell_type": "code",
   "execution_count": 50,
   "id": "9ccebf98",
   "metadata": {},
   "outputs": [],
   "source": [
    "# Creating dict for the required parameters with [State, Month] as indexes\n",
    "\n",
    "#Application Demand across State & Month\n",
    "Demand_data = demand.set_index(['State','Month'])['Demand'].to_dict()\n",
    "\n",
    "# Cost per Application for Outsource \n",
    "OutsourceRate = cost.set_index(['State','Month'])['UnitOutSourceCost'].to_dict()\n",
    "\n",
    "# Cost for FTE monthly salary \n",
    "StaffMsal = cost.set_index(['State','Month'])['MonthlySalary'].to_dict()\n",
    "\n",
    "# Staff availabilty for serving the Insurance - regular scenario , Lower bound , Upper bound scenario\n",
    "StaffAvPer_data = staff_data.set_index(['State','Month'])['StaffAvPer'].to_dict()\n",
    "StaffLB_data = staff_data.set_index(['State','Month'])['LB'].to_dict()\n",
    "StaffUB_data = staff_data.set_index(['State','Month'])['UB'].to_dict()\n",
    "\n",
    "Staff_app_permonth = 40"
   ]
  },
  {
   "cell_type": "markdown",
   "id": "a546e09f",
   "metadata": {},
   "source": [
    "Question 1\n",
    "\n",
    "The company wants to know the optimised staffing recommendations for the business case described. Write the mathematical model for the deterministic optimisation problem. Define and explain your decision variables, objective function and the constraint. (Hint: Use months of the year as the model timeline)."
   ]
  },
  {
   "cell_type": "markdown",
   "id": "9c244b7c",
   "metadata": {},
   "source": [
    "Answer to Question 1"
   ]
  },
  {
   "cell_type": "markdown",
   "id": "0eec29d6",
   "metadata": {},
   "source": [
    "Objective: The objective of the case study is to identify the optimal number of staff between Employees & Outsource such as to minimize the total cost for application approval process"
   ]
  },
  {
   "cell_type": "markdown",
   "id": "83106435",
   "metadata": {},
   "source": [
    "Case Study Objective :\n",
    "\n",
    "The objective of the case study is to identify the optimal number of staff between Employees & Outsource such as to minimize the total cost for application approval process\n",
    "\n",
    "Decision Variables :\n",
    "\n",
    "The objective indicates towards requirement of Cost & Count for developing the mathematical equation of the Objective Function. For Outsource - the cost is provided at per application basis & hence the 1st Variable  will be No. of Applications from Outsource named - Outsource_appl across states & months For Employess - the cost is provided as monthly salary & hence the  will be No. of FTE named - FTE_count across states & months\n",
    "\n",
    "Objective Function :\n",
    "\n",
    "To minimize the total cost for application approval process the Objective function will be :\n",
    "\n",
    "x * 40 * a + y = D\n",
    "\n",
    "where,\n",
    "\n",
    "S = States\n",
    "M = Months\n",
    "c = Staff monthly salary\n",
    "x = no. of FTE\n",
    "O = Outsource Cost\n",
    "y = No. of applications by outsource\n",
    "a = Staff Availability %\n",
    "D = Application Demand\n",
    "40 = No. of Application per month by staff incase of 100% availability\n",
    "Constraints\n",
    "\n",
    "1. Demand per month per state\n",
    "\n",
    "Before we create the Demand Constraint, we need to calculate a variable for No. of Applications being processed by FTEs.\n",
    "- FTE_Appl = No. of FTE * StaffAvPer_data * Staff_app_permonth Demand_Constraint = FTE_Appl + Outsource_appl for each month for each state\n",
    "\n",
    "\n",
    "2. Maximum Outsource for State A\n",
    "\n",
    "State A can only provide 30% of the total application demand to outsource\n",
    "\n",
    "3. Maximum Outsource for State B\n",
    "\n",
    "State B can only provide 40% of the total application demand to outsource"
   ]
  },
  {
   "cell_type": "markdown",
   "id": "b0ae7bf2",
   "metadata": {},
   "source": [
    "Question 2\n",
    "\n",
    "Code the problem is Python and use any optimization package to solve it. Add comments to your code to explain each step.\n",
    "\n",
    "Expected output:\n",
    "\n",
    "Create a data frame containing the number of outsourced applications and the number of FTEs for each state-month combination. You can choose to have extra columns like staff availability, demand etc. in your dataframe apart from the ones mentioned earlier."
   ]
  },
  {
   "cell_type": "code",
   "execution_count": 51,
   "id": "99865077",
   "metadata": {},
   "outputs": [],
   "source": [
    "# Creating a model instance\n",
    "model = ConcreteModel()"
   ]
  },
  {
   "cell_type": "markdown",
   "id": "89e67ef2",
   "metadata": {},
   "source": [
    "Pyomo sets and Parameters"
   ]
  },
  {
   "cell_type": "code",
   "execution_count": 52,
   "id": "1bdc4c01",
   "metadata": {},
   "outputs": [],
   "source": [
    "# Initializing month & state for usage in loops ahead\n",
    "model.location = Set(initialize = state_name.tolist(),doc = 'States')\n",
    "model.months = Set(initialize=month_name.tolist(), doc = 'Months')"
   ]
  },
  {
   "cell_type": "code",
   "execution_count": 53,
   "id": "887e911c",
   "metadata": {},
   "outputs": [
    {
     "name": "stdout",
     "output_type": "stream",
     "text": [
      "location : States\n",
      "    Size=1, Index=None, Ordered=Insertion\n",
      "    Key  : Dimen : Domain : Size : Members\n",
      "    None :     1 :    Any :    3 : {'A', 'B', 'C'}\n"
     ]
    }
   ],
   "source": [
    "model.location.display()"
   ]
  },
  {
   "cell_type": "code",
   "execution_count": 54,
   "id": "9f1ac03c",
   "metadata": {},
   "outputs": [
    {
     "name": "stdout",
     "output_type": "stream",
     "text": [
      "d : Demand\n",
      "    Size=36, Index=d_index, Domain=Any, Default=None, Mutable=False\n",
      "    Key          : Value\n",
      "    ('A', 'Apr') :  2297\n",
      "    ('A', 'Aug') :  3371\n",
      "    ('A', 'Dec') :  5183\n",
      "    ('A', 'Feb') :  4878\n",
      "    ('A', 'Jan') :  5240\n",
      "    ('A', 'Jul') :  5334\n",
      "    ('A', 'Jun') :  2275\n",
      "    ('A', 'Mar') :  5942\n",
      "    ('A', 'May') :  1992\n",
      "    ('A', 'Nov') :  4284\n",
      "    ('A', 'Oct') :  3529\n",
      "    ('A', 'Sep') :  3759\n",
      "    ('B', 'Apr') :  2338\n",
      "    ('B', 'Aug') :  2620\n",
      "    ('B', 'Dec') :  4227\n",
      "    ('B', 'Feb') :  2628\n",
      "    ('B', 'Jan') :  4927\n",
      "    ('B', 'Jul') :  4271\n",
      "    ('B', 'Jun') :  3147\n",
      "    ('B', 'Mar') :  2974\n",
      "    ('B', 'May') :  4020\n",
      "    ('B', 'Nov') :  3137\n",
      "    ('B', 'Oct') :  4155\n",
      "    ('B', 'Sep') :  4517\n",
      "    ('C', 'Apr') :  2261\n",
      "    ('C', 'Aug') :  2496\n",
      "    ('C', 'Dec') :  1998\n",
      "    ('C', 'Feb') :  1967\n",
      "    ('C', 'Jan') :  1162\n",
      "    ('C', 'Jul') :  2489\n",
      "    ('C', 'Jun') :  1642\n",
      "    ('C', 'Mar') :  1898\n",
      "    ('C', 'May') :  2030\n",
      "    ('C', 'Nov') :   963\n",
      "    ('C', 'Oct') :  2421\n",
      "    ('C', 'Sep') :   922\n"
     ]
    }
   ],
   "source": [
    "# Defining model Parameter for Demand across months & states\n",
    "model.d = Param(model.location, model.months, initialize = Demand_data, doc = 'Demand')\n",
    "model.d.display()"
   ]
  },
  {
   "cell_type": "code",
   "execution_count": 55,
   "id": "be5bcbee",
   "metadata": {},
   "outputs": [
    {
     "name": "stdout",
     "output_type": "stream",
     "text": [
      "avail : Staff_Availability\n",
      "    Size=36, Index=avail_index, Domain=Any, Default=None, Mutable=False\n",
      "    Key          : Value\n",
      "    ('A', 'Apr') :   0.8\n",
      "    ('A', 'Aug') :  0.76\n",
      "    ('A', 'Dec') :  0.65\n",
      "    ('A', 'Feb') :  0.76\n",
      "    ('A', 'Jan') :  0.81\n",
      "    ('A', 'Jul') :  0.68\n",
      "    ('A', 'Jun') :  0.73\n",
      "    ('A', 'Mar') :  0.75\n",
      "    ('A', 'May') :  0.78\n",
      "    ('A', 'Nov') :  0.68\n",
      "    ('A', 'Oct') :  0.73\n",
      "    ('A', 'Sep') :  0.81\n",
      "    ('B', 'Apr') :   0.8\n",
      "    ('B', 'Aug') :  0.76\n",
      "    ('B', 'Dec') :  0.65\n",
      "    ('B', 'Feb') :  0.76\n",
      "    ('B', 'Jan') :  0.81\n",
      "    ('B', 'Jul') :  0.68\n",
      "    ('B', 'Jun') :  0.73\n",
      "    ('B', 'Mar') :  0.75\n",
      "    ('B', 'May') :  0.78\n",
      "    ('B', 'Nov') :  0.68\n",
      "    ('B', 'Oct') :  0.73\n",
      "    ('B', 'Sep') :  0.81\n",
      "    ('C', 'Apr') :   0.8\n",
      "    ('C', 'Aug') :  0.76\n",
      "    ('C', 'Dec') :  0.65\n",
      "    ('C', 'Feb') :  0.76\n",
      "    ('C', 'Jan') :  0.81\n",
      "    ('C', 'Jul') :  0.68\n",
      "    ('C', 'Jun') :  0.73\n",
      "    ('C', 'Mar') :  0.75\n",
      "    ('C', 'May') :  0.78\n",
      "    ('C', 'Nov') :  0.68\n",
      "    ('C', 'Oct') :  0.73\n",
      "    ('C', 'Sep') :  0.81\n"
     ]
    }
   ],
   "source": [
    "# Defining model Parameter for Staff Availability across months & states\n",
    "model.avail = Param(model.location, model.months, initialize = StaffAvPer_data, doc = 'Staff_Availability')\n",
    "model.avail.display()"
   ]
  },
  {
   "cell_type": "code",
   "execution_count": 56,
   "id": "d6e0dead",
   "metadata": {},
   "outputs": [
    {
     "name": "stdout",
     "output_type": "stream",
     "text": [
      "staffsalary : Staff Monthly Salary\n",
      "    Size=36, Index=staffsalary_index, Domain=Any, Default=None, Mutable=False\n",
      "    Key          : Value\n",
      "    ('A', 'Apr') :   nan\n",
      "    ('A', 'Aug') :   nan\n",
      "    ('A', 'Dec') :   nan\n",
      "    ('A', 'Feb') :   nan\n",
      "    ('A', 'Jan') :   nan\n",
      "    ('A', 'Jul') :   nan\n",
      "    ('A', 'Jun') :   nan\n",
      "    ('A', 'Mar') :   nan\n",
      "    ('A', 'May') :   nan\n",
      "    ('A', 'Nov') :   nan\n",
      "    ('A', 'Oct') :   nan\n",
      "    ('A', 'Sep') :   nan\n",
      "    ('B', 'Apr') :   nan\n",
      "    ('B', 'Aug') :   nan\n",
      "    ('B', 'Dec') :   nan\n",
      "    ('B', 'Feb') :   nan\n",
      "    ('B', 'Jan') :   nan\n",
      "    ('B', 'Jul') :   nan\n",
      "    ('B', 'Jun') :   nan\n",
      "    ('B', 'Mar') :   nan\n",
      "    ('B', 'May') :   nan\n",
      "    ('B', 'Nov') :   nan\n",
      "    ('B', 'Oct') :   nan\n",
      "    ('B', 'Sep') :   nan\n",
      "    ('C', 'Apr') :   nan\n",
      "    ('C', 'Aug') :   nan\n",
      "    ('C', 'Dec') :   nan\n",
      "    ('C', 'Feb') :   nan\n",
      "    ('C', 'Jan') :   nan\n",
      "    ('C', 'Jul') :   nan\n",
      "    ('C', 'Jun') :   nan\n",
      "    ('C', 'Mar') :   nan\n",
      "    ('C', 'May') :   nan\n",
      "    ('C', 'Nov') :   nan\n",
      "    ('C', 'Oct') :   nan\n",
      "    ('C', 'Sep') :   nan\n"
     ]
    }
   ],
   "source": [
    "# Defining model Parameter for Staff Monthly Salary across months & states\n",
    "model.staffsalary = Param(model.location,model.months, initialize=StaffMsal, doc='Staff Monthly Salary')\n",
    "model.staffsalary.display()\n"
   ]
  },
  {
   "cell_type": "code",
   "execution_count": 57,
   "id": "fe95bc50",
   "metadata": {},
   "outputs": [
    {
     "name": "stdout",
     "output_type": "stream",
     "text": [
      "outsourcecost : Outsource Cost\n",
      "    Size=36, Index=outsourcecost_index, Domain=Any, Default=None, Mutable=False\n",
      "    Key          : Value\n",
      "    ('A', 'Apr') :   180\n",
      "    ('A', 'Aug') :   180\n",
      "    ('A', 'Dec') :   180\n",
      "    ('A', 'Feb') :   180\n",
      "    ('A', 'Jan') :   180\n",
      "    ('A', 'Jul') :   180\n",
      "    ('A', 'Jun') :   180\n",
      "    ('A', 'Mar') :   180\n",
      "    ('A', 'May') :   180\n",
      "    ('A', 'Nov') :   180\n",
      "    ('A', 'Oct') :   180\n",
      "    ('A', 'Sep') :   180\n",
      "    ('B', 'Apr') :   150\n",
      "    ('B', 'Aug') :   150\n",
      "    ('B', 'Dec') :   150\n",
      "    ('B', 'Feb') :   150\n",
      "    ('B', 'Jan') :   150\n",
      "    ('B', 'Jul') :   150\n",
      "    ('B', 'Jun') :   150\n",
      "    ('B', 'Mar') :   150\n",
      "    ('B', 'May') :   150\n",
      "    ('B', 'Nov') :   150\n",
      "    ('B', 'Oct') :   150\n",
      "    ('B', 'Sep') :   150\n",
      "    ('C', 'Apr') :   160\n",
      "    ('C', 'Aug') :   160\n",
      "    ('C', 'Dec') :   160\n",
      "    ('C', 'Feb') :   160\n",
      "    ('C', 'Jan') :   160\n",
      "    ('C', 'Jul') :   160\n",
      "    ('C', 'Jun') :   160\n",
      "    ('C', 'Mar') :   160\n",
      "    ('C', 'May') :   160\n",
      "    ('C', 'Nov') :   160\n",
      "    ('C', 'Oct') :   160\n",
      "    ('C', 'Sep') :   160\n"
     ]
    }
   ],
   "source": [
    "# Defining model Parameter for Outsource Cost across months & states\n",
    "model.outsourcecost = Param(model.location, model.months, initialize = OutsourceRate, doc = 'Outsource Cost')\n",
    "model.outsourcecost.display()"
   ]
  },
  {
   "cell_type": "markdown",
   "id": "b55a3ae0",
   "metadata": {},
   "source": [
    "Decision Variables"
   ]
  },
  {
   "cell_type": "code",
   "execution_count": 58,
   "id": "f9958cda",
   "metadata": {},
   "outputs": [],
   "source": [
    "# Decision variables\n",
    "model.x = Var(model.location, model.months, domain=NonNegativeReals, doc='No. of FTE')\n",
    "model.y = Var(model.location, model.months, domain=NonNegativeIntegers, doc='No. of Outsource Appl.')"
   ]
  },
  {
   "cell_type": "markdown",
   "id": "bf8fc155",
   "metadata": {},
   "source": [
    "Objective Function"
   ]
  },
  {
   "cell_type": "code",
   "execution_count": 71,
   "id": "80c4b0c5",
   "metadata": {},
   "outputs": [
    {
     "name": "stdout",
     "output_type": "stream",
     "text": [
      "WARNING: Implicitly replacing the Component attribute output (type=<class\n",
      "'pyomo.core.base.objective.ScalarObjective'>) on block unknown with a new\n",
      "Component (type=<class 'pyomo.core.base.objective.ScalarObjective'>). This is\n",
      "usually indicative of a modelling error. To avoid this warning, use\n",
      "block.del_component() and block.add_component().\n"
     ]
    }
   ],
   "source": [
    "obj = 0\n",
    "def obj_rule(model):\n",
    "    global obj\n",
    "    for l in model.location:\n",
    "        for m in model.months:\n",
    "            # formula used is : (Outsource Appl * per Appl cost for Outsource) + (no. of FTEs * Monthly Salary)\n",
    "            obj+=(model.y[l,m]*model.outsourcecost[l,m])+(model.x[l,m]*model.staffsalary[l,m])\n",
    "    return obj\n",
    "model.output = Objective(rule=obj_rule, sense= minimize)"
   ]
  },
  {
   "cell_type": "markdown",
   "id": "16d91ccf",
   "metadata": {},
   "source": [
    "Constraints - Demand Constraint"
   ]
  },
  {
   "cell_type": "code",
   "execution_count": 60,
   "id": "8878d03d",
   "metadata": {},
   "outputs": [],
   "source": [
    "model.ddConst = ConstraintList()\n",
    "for l in model.location:\n",
    "    for m in model.months:\n",
    "        model.ddConst.add(expr = model.y[l,m] + model.x[l,m]*(model.avail[l,m]*40) == model.d[l,m]) \n",
    "        # Demand = No. of Outsource Applications + (FTE count* Max Application,i.e.,'40' * Staff Availability %)"
   ]
  },
  {
   "cell_type": "markdown",
   "id": "ad35a4f6",
   "metadata": {},
   "source": [
    "Constraints - State A Outsourcing Constraint"
   ]
  },
  {
   "cell_type": "code",
   "execution_count": 61,
   "id": "f8a28521",
   "metadata": {},
   "outputs": [],
   "source": [
    "model.statelimit = ConstraintList()\n",
    "\n",
    "for l in model.location:\n",
    "    for m in model.months:\n",
    "        if l == 'A':\n",
    "            model.statelimit.add(expr = model.y[l,m] <= 0.3*model.d[l,m])\n",
    "        elif l == 'B':\n",
    "            model.statelimit.add(expr = model.y[l,m] <= 0.4*model.d[l,m])\n",
    "        else:\n",
    "            pass"
   ]
  },
  {
   "cell_type": "markdown",
   "id": "c7c61a64",
   "metadata": {},
   "source": [
    "Invoking Solver"
   ]
  },
  {
   "cell_type": "code",
   "execution_count": 67,
   "id": "a68341d9",
   "metadata": {},
   "outputs": [
    {
     "name": "stdout",
     "output_type": "stream",
     "text": [
      "ERROR: Solver (glpk) returned non-zero return code (1)\n",
      "ERROR: Solver log: GLPSOL--GLPK LP/MIP Solver 5.0 Parameter(s) specified in\n",
      "the command line:\n",
      "     --write\n",
      "     /var/folders/7j/bgyx20753s1cxg66dc1bxgwm0000gn/T/tmp1m1wdtse.glpk.raw\n",
      "     --wglp\n",
      "     /var/folders/7j/bgyx20753s1cxg66dc1bxgwm0000gn/T/tmptdjtvq9e.glpk.glp\n",
      "     --cpxlp\n",
      "     /var/folders/7j/bgyx20753s1cxg66dc1bxgwm0000gn/T/tmpjhkhce0l.pyomo.lp\n",
      "    Reading problem data from\n",
      "    '/var/folders/7j/bgyx20753s1cxg66dc1bxgwm0000gn/T/tmpjhkhce0l.pyomo.lp'...\n",
      "    /var/folders/7j/bgyx20753s1cxg66dc1bxgwm0000gn/T/tmpjhkhce0l.pyomo.lp:6:\n",
      "    constraints section missing CPLEX LP file processing error\n"
     ]
    },
    {
     "ename": "ApplicationError",
     "evalue": "Solver (glpk) did not exit normally",
     "output_type": "error",
     "traceback": [
      "\u001b[0;31m---------------------------------------------------------------------------\u001b[0m",
      "\u001b[0;31mApplicationError\u001b[0m                          Traceback (most recent call last)",
      "Cell \u001b[0;32mIn[67], line 7\u001b[0m\n\u001b[1;32m      4\u001b[0m solver_path \u001b[38;5;241m=\u001b[39m \u001b[38;5;124m'\u001b[39m\u001b[38;5;124m/opt/homebrew/bin/glpsol\u001b[39m\u001b[38;5;124m'\u001b[39m \n\u001b[1;32m      6\u001b[0m \u001b[38;5;66;03m# Invoking the solver\u001b[39;00m\n\u001b[0;32m----> 7\u001b[0m result \u001b[38;5;241m=\u001b[39m SolverFactory(\u001b[38;5;124m'\u001b[39m\u001b[38;5;124mglpk\u001b[39m\u001b[38;5;124m'\u001b[39m, executable\u001b[38;5;241m=\u001b[39msolver_path)\u001b[38;5;241m.\u001b[39msolve(model)\n\u001b[1;32m      8\u001b[0m result\u001b[38;5;241m.\u001b[39mwrite()\n",
      "File \u001b[0;32m~/anaconda3/lib/python3.11/site-packages/pyomo/opt/base/solvers.py:627\u001b[0m, in \u001b[0;36mOptSolver.solve\u001b[0;34m(self, *args, **kwds)\u001b[0m\n\u001b[1;32m    625\u001b[0m     \u001b[38;5;28;01melif\u001b[39;00m \u001b[38;5;28mhasattr\u001b[39m(_status, \u001b[38;5;124m'\u001b[39m\u001b[38;5;124mlog\u001b[39m\u001b[38;5;124m'\u001b[39m) \u001b[38;5;129;01mand\u001b[39;00m _status\u001b[38;5;241m.\u001b[39mlog:\n\u001b[1;32m    626\u001b[0m         logger\u001b[38;5;241m.\u001b[39merror(\u001b[38;5;124m\"\u001b[39m\u001b[38;5;124mSolver log:\u001b[39m\u001b[38;5;130;01m\\n\u001b[39;00m\u001b[38;5;124m\"\u001b[39m \u001b[38;5;241m+\u001b[39m \u001b[38;5;28mstr\u001b[39m(_status\u001b[38;5;241m.\u001b[39mlog))\n\u001b[0;32m--> 627\u001b[0m     \u001b[38;5;28;01mraise\u001b[39;00m ApplicationError(\u001b[38;5;124m\"\u001b[39m\u001b[38;5;124mSolver (\u001b[39m\u001b[38;5;132;01m%s\u001b[39;00m\u001b[38;5;124m) did not exit normally\u001b[39m\u001b[38;5;124m\"\u001b[39m \u001b[38;5;241m%\u001b[39m \u001b[38;5;28mself\u001b[39m\u001b[38;5;241m.\u001b[39mname)\n\u001b[1;32m    628\u001b[0m solve_completion_time \u001b[38;5;241m=\u001b[39m time\u001b[38;5;241m.\u001b[39mtime()\n\u001b[1;32m    629\u001b[0m \u001b[38;5;28;01mif\u001b[39;00m \u001b[38;5;28mself\u001b[39m\u001b[38;5;241m.\u001b[39m_report_timing:\n",
      "\u001b[0;31mApplicationError\u001b[0m: Solver (glpk) did not exit normally"
     ]
    }
   ],
   "source": [
    "from pyomo.opt import SolverFactory\n",
    "\n",
    "# Specify the full path to the glpsol executable\n",
    "solver_path = '/opt/homebrew/bin/glpsol' \n",
    "\n",
    "# Invoking the solver\n",
    "result = SolverFactory('glpk', executable=solver_path).solve(model)\n",
    "result.write()"
   ]
  },
  {
   "cell_type": "code",
   "execution_count": 63,
   "id": "56dac78c",
   "metadata": {},
   "outputs": [
    {
     "name": "stdout",
     "output_type": "stream",
     "text": [
      "ERROR: evaluating object as numeric value: y[A,Jan]\n",
      "        (object: <class 'pyomo.core.base.var._GeneralVarData'>)\n",
      "    No value for uninitialized NumericValue object y[A,Jan]\n"
     ]
    },
    {
     "ename": "ValueError",
     "evalue": "No value for uninitialized NumericValue object y[A,Jan]",
     "output_type": "error",
     "traceback": [
      "\u001b[0;31m---------------------------------------------------------------------------\u001b[0m",
      "\u001b[0;31mValueError\u001b[0m                                Traceback (most recent call last)",
      "Cell \u001b[0;32mIn[63], line 2\u001b[0m\n\u001b[1;32m      1\u001b[0m \u001b[38;5;66;03m# Print the value of the objective function (converting the output to million)\u001b[39;00m\n\u001b[0;32m----> 2\u001b[0m base_cost \u001b[38;5;241m=\u001b[39m \u001b[38;5;28mint\u001b[39m(model\u001b[38;5;241m.\u001b[39moutput())\u001b[38;5;241m/\u001b[39m\u001b[38;5;241m10\u001b[39m\u001b[38;5;241m*\u001b[39m\u001b[38;5;241m*\u001b[39m\u001b[38;5;241m6\u001b[39m\n\u001b[1;32m      3\u001b[0m base_cost\n",
      "File \u001b[0;32m~/anaconda3/lib/python3.11/site-packages/pyomo/core/base/objective.py:426\u001b[0m, in \u001b[0;36mScalarObjective.__call__\u001b[0;34m(self, exception)\u001b[0m\n\u001b[1;32m    419\u001b[0m     \u001b[38;5;28;01mif\u001b[39;00m \u001b[38;5;28mlen\u001b[39m(\u001b[38;5;28mself\u001b[39m\u001b[38;5;241m.\u001b[39m_data) \u001b[38;5;241m==\u001b[39m \u001b[38;5;241m0\u001b[39m:\n\u001b[1;32m    420\u001b[0m         \u001b[38;5;28;01mraise\u001b[39;00m \u001b[38;5;167;01mValueError\u001b[39;00m(\n\u001b[1;32m    421\u001b[0m             \u001b[38;5;124m\"\u001b[39m\u001b[38;5;124mEvaluating the expression of ScalarObjective \u001b[39m\u001b[38;5;124m\"\u001b[39m\n\u001b[1;32m    422\u001b[0m             \u001b[38;5;124m\"\u001b[39m\u001b[38;5;124m'\u001b[39m\u001b[38;5;132;01m%s\u001b[39;00m\u001b[38;5;124m'\u001b[39m\u001b[38;5;124m before the Objective has been assigned \u001b[39m\u001b[38;5;124m\"\u001b[39m\n\u001b[1;32m    423\u001b[0m             \u001b[38;5;124m\"\u001b[39m\u001b[38;5;124ma sense or expression (there is currently \u001b[39m\u001b[38;5;124m\"\u001b[39m\n\u001b[1;32m    424\u001b[0m             \u001b[38;5;124m\"\u001b[39m\u001b[38;5;124mno value to return).\u001b[39m\u001b[38;5;124m\"\u001b[39m \u001b[38;5;241m%\u001b[39m (\u001b[38;5;28mself\u001b[39m\u001b[38;5;241m.\u001b[39mname)\n\u001b[1;32m    425\u001b[0m         )\n\u001b[0;32m--> 426\u001b[0m     \u001b[38;5;28;01mreturn\u001b[39;00m \u001b[38;5;28msuper\u001b[39m()\u001b[38;5;241m.\u001b[39m\u001b[38;5;21m__call__\u001b[39m(exception)\n\u001b[1;32m    427\u001b[0m \u001b[38;5;28;01mraise\u001b[39;00m \u001b[38;5;167;01mValueError\u001b[39;00m(\n\u001b[1;32m    428\u001b[0m     \u001b[38;5;124m\"\u001b[39m\u001b[38;5;124mEvaluating the expression of objective \u001b[39m\u001b[38;5;124m'\u001b[39m\u001b[38;5;132;01m%s\u001b[39;00m\u001b[38;5;124m'\u001b[39m\u001b[38;5;124m \u001b[39m\u001b[38;5;124m\"\u001b[39m\n\u001b[1;32m    429\u001b[0m     \u001b[38;5;124m\"\u001b[39m\u001b[38;5;124mbefore the Objective has been constructed (there \u001b[39m\u001b[38;5;124m\"\u001b[39m\n\u001b[1;32m    430\u001b[0m     \u001b[38;5;124m\"\u001b[39m\u001b[38;5;124mis currently no value to return).\u001b[39m\u001b[38;5;124m\"\u001b[39m \u001b[38;5;241m%\u001b[39m (\u001b[38;5;28mself\u001b[39m\u001b[38;5;241m.\u001b[39mname)\n\u001b[1;32m    431\u001b[0m )\n",
      "File \u001b[0;32m~/anaconda3/lib/python3.11/site-packages/pyomo/core/base/expression.py:66\u001b[0m, in \u001b[0;36m_ExpressionData.__call__\u001b[0;34m(self, exception)\u001b[0m\n\u001b[1;32m     63\u001b[0m \u001b[38;5;28;01mif\u001b[39;00m arg\u001b[38;5;241m.\u001b[39m\u001b[38;5;18m__class__\u001b[39m \u001b[38;5;129;01min\u001b[39;00m native_types:\n\u001b[1;32m     64\u001b[0m     \u001b[38;5;66;03m# Note: native_types includes NoneType\u001b[39;00m\n\u001b[1;32m     65\u001b[0m     \u001b[38;5;28;01mreturn\u001b[39;00m arg\n\u001b[0;32m---> 66\u001b[0m \u001b[38;5;28;01mreturn\u001b[39;00m arg(exception\u001b[38;5;241m=\u001b[39mexception)\n",
      "File \u001b[0;32m~/anaconda3/lib/python3.11/site-packages/pyomo/core/expr/base.py:118\u001b[0m, in \u001b[0;36mExpressionBase.__call__\u001b[0;34m(self, exception)\u001b[0m\n\u001b[1;32m    103\u001b[0m \u001b[38;5;28;01mdef\u001b[39;00m \u001b[38;5;21m__call__\u001b[39m(\u001b[38;5;28mself\u001b[39m, exception\u001b[38;5;241m=\u001b[39m\u001b[38;5;28;01mTrue\u001b[39;00m):\n\u001b[1;32m    104\u001b[0m \u001b[38;5;250m    \u001b[39m\u001b[38;5;124;03m\"\"\"Evaluate the value of the expression tree.\u001b[39;00m\n\u001b[1;32m    105\u001b[0m \n\u001b[1;32m    106\u001b[0m \u001b[38;5;124;03m    Parameters\u001b[39;00m\n\u001b[0;32m   (...)\u001b[0m\n\u001b[1;32m    116\u001b[0m \n\u001b[1;32m    117\u001b[0m \u001b[38;5;124;03m    \"\"\"\u001b[39;00m\n\u001b[0;32m--> 118\u001b[0m     \u001b[38;5;28;01mreturn\u001b[39;00m visitor\u001b[38;5;241m.\u001b[39mevaluate_expression(\u001b[38;5;28mself\u001b[39m, exception)\n",
      "File \u001b[0;32m~/anaconda3/lib/python3.11/site-packages/pyomo/core/expr/visitor.py:1283\u001b[0m, in \u001b[0;36mevaluate_expression\u001b[0;34m(exp, exception, constant)\u001b[0m\n\u001b[1;32m   1280\u001b[0m         clear_active \u001b[38;5;241m=\u001b[39m \u001b[38;5;28;01mTrue\u001b[39;00m\n\u001b[1;32m   1282\u001b[0m \u001b[38;5;28;01mtry\u001b[39;00m:\n\u001b[0;32m-> 1283\u001b[0m     ans \u001b[38;5;241m=\u001b[39m visitor\u001b[38;5;241m.\u001b[39mdfs_postorder_stack(exp)\n\u001b[1;32m   1284\u001b[0m \u001b[38;5;28;01mexcept\u001b[39;00m (\n\u001b[1;32m   1285\u001b[0m     TemplateExpressionError,\n\u001b[1;32m   1286\u001b[0m     \u001b[38;5;167;01mValueError\u001b[39;00m,\n\u001b[0;32m   (...)\u001b[0m\n\u001b[1;32m   1299\u001b[0m     \u001b[38;5;66;03m#   TypeError: This can be raised in Python3 when evaluating a\u001b[39;00m\n\u001b[1;32m   1300\u001b[0m     \u001b[38;5;66;03m#      operation returns a complex number (e.g., sqrt(-1))\u001b[39;00m\n\u001b[1;32m   1301\u001b[0m     \u001b[38;5;28;01mif\u001b[39;00m exception:\n",
      "File \u001b[0;32m~/anaconda3/lib/python3.11/site-packages/pyomo/core/expr/visitor.py:906\u001b[0m, in \u001b[0;36mExpressionValueVisitor.dfs_postorder_stack\u001b[0;34m(self, node)\u001b[0m\n\u001b[1;32m    904\u001b[0m _sub \u001b[38;5;241m=\u001b[39m _argList[_idx]\n\u001b[1;32m    905\u001b[0m _idx \u001b[38;5;241m+\u001b[39m\u001b[38;5;241m=\u001b[39m \u001b[38;5;241m1\u001b[39m\n\u001b[0;32m--> 906\u001b[0m flag, value \u001b[38;5;241m=\u001b[39m \u001b[38;5;28mself\u001b[39m\u001b[38;5;241m.\u001b[39mvisiting_potential_leaf(_sub)\n\u001b[1;32m    907\u001b[0m \u001b[38;5;28;01mif\u001b[39;00m flag:\n\u001b[1;32m    908\u001b[0m     _result\u001b[38;5;241m.\u001b[39mappend(value)\n",
      "File \u001b[0;32m~/anaconda3/lib/python3.11/site-packages/pyomo/core/expr/visitor.py:1188\u001b[0m, in \u001b[0;36m_EvaluationVisitor.visiting_potential_leaf\u001b[0;34m(self, node)\u001b[0m\n\u001b[1;32m   1185\u001b[0m     \u001b[38;5;28;01mreturn\u001b[39;00m \u001b[38;5;28;01mFalse\u001b[39;00m, \u001b[38;5;28;01mNone\u001b[39;00m\n\u001b[1;32m   1187\u001b[0m \u001b[38;5;28;01mif\u001b[39;00m node\u001b[38;5;241m.\u001b[39mis_numeric_type():\n\u001b[0;32m-> 1188\u001b[0m     \u001b[38;5;28;01mreturn\u001b[39;00m \u001b[38;5;28;01mTrue\u001b[39;00m, value(node, exception\u001b[38;5;241m=\u001b[39m\u001b[38;5;28mself\u001b[39m\u001b[38;5;241m.\u001b[39mexception)\n\u001b[1;32m   1189\u001b[0m \u001b[38;5;28;01melif\u001b[39;00m node\u001b[38;5;241m.\u001b[39mis_logical_type():\n\u001b[1;32m   1190\u001b[0m     \u001b[38;5;28;01mreturn\u001b[39;00m \u001b[38;5;28;01mTrue\u001b[39;00m, value(node, exception\u001b[38;5;241m=\u001b[39m\u001b[38;5;28mself\u001b[39m\u001b[38;5;241m.\u001b[39mexception)\n",
      "File \u001b[0;32m~/anaconda3/lib/python3.11/site-packages/pyomo/common/numeric_types.py:247\u001b[0m, in \u001b[0;36mvalue\u001b[0;34m(obj, exception)\u001b[0m\n\u001b[1;32m    245\u001b[0m     tmp \u001b[38;5;241m=\u001b[39m obj(exception\u001b[38;5;241m=\u001b[39m\u001b[38;5;28;01mTrue\u001b[39;00m)\n\u001b[1;32m    246\u001b[0m     \u001b[38;5;28;01mif\u001b[39;00m tmp \u001b[38;5;129;01mis\u001b[39;00m \u001b[38;5;28;01mNone\u001b[39;00m:\n\u001b[0;32m--> 247\u001b[0m         \u001b[38;5;28;01mraise\u001b[39;00m \u001b[38;5;167;01mValueError\u001b[39;00m(\n\u001b[1;32m    248\u001b[0m             \u001b[38;5;124m\"\u001b[39m\u001b[38;5;124mNo value for uninitialized NumericValue object \u001b[39m\u001b[38;5;132;01m%s\u001b[39;00m\u001b[38;5;124m\"\u001b[39m \u001b[38;5;241m%\u001b[39m (obj\u001b[38;5;241m.\u001b[39mname,)\n\u001b[1;32m    249\u001b[0m         )\n\u001b[1;32m    250\u001b[0m     \u001b[38;5;28;01mreturn\u001b[39;00m tmp\n\u001b[1;32m    251\u001b[0m \u001b[38;5;28;01mexcept\u001b[39;00m TemplateExpressionError:\n\u001b[1;32m    252\u001b[0m     \u001b[38;5;66;03m# Template expressions work by catching this error type. So\u001b[39;00m\n\u001b[1;32m    253\u001b[0m     \u001b[38;5;66;03m# we should defer this error handling and not log an error\u001b[39;00m\n\u001b[1;32m    254\u001b[0m     \u001b[38;5;66;03m# message.\u001b[39;00m\n",
      "\u001b[0;31mValueError\u001b[0m: No value for uninitialized NumericValue object y[A,Jan]"
     ]
    }
   ],
   "source": [
    "# Print the value of the objective function (converting the output to million)\n",
    "base_cost = int(model.output())/10**6\n",
    "base_cost"
   ]
  },
  {
   "cell_type": "markdown",
   "id": "3dcceb72",
   "metadata": {},
   "source": [
    "The company has to spend approzimately around 17.9 m$ in total for the application approval process."
   ]
  },
  {
   "cell_type": "code",
   "execution_count": null,
   "id": "a2372683",
   "metadata": {},
   "outputs": [],
   "source": [
    "# Creating dataframe for the results\n",
    "# optimal number of staff members for the Avg case scenario\n",
    "Avg_Output = []\n",
    "Avg_avilb = 0\n",
    "\n",
    "for l in model.location:\n",
    "    for m in model.months:\n",
    "        \n",
    "        # optimal no. of staff members for Avg Case scenario\n",
    "        Staff_count = (round(model.x[l,m].value))\n",
    "        \n",
    "        # outsourced applications% = no. of Outsource applications(stored in variable y) divide by total demand(stored in variable d)*100\n",
    "        Outsource_applications = (model.y[l,m].value)\n",
    "        \n",
    "        # Total Cost = cost of staff + Cost of   outsourced  applications\n",
    "                \n",
    "        Avg_Output.append([l,m, Staff_count, Outsource_applications])\n",
    "       \n",
    "                \n",
    "print(Avg_Output)\n"
   ]
  },
  {
   "cell_type": "code",
   "execution_count": 64,
   "id": "c6dd12b3",
   "metadata": {},
   "outputs": [
    {
     "ename": "NameError",
     "evalue": "name 'Avg_Output' is not defined",
     "output_type": "error",
     "traceback": [
      "\u001b[0;31m---------------------------------------------------------------------------\u001b[0m",
      "\u001b[0;31mNameError\u001b[0m                                 Traceback (most recent call last)",
      "Cell \u001b[0;32mIn[64], line 1\u001b[0m\n\u001b[0;32m----> 1\u001b[0m Avg_Output \u001b[38;5;241m=\u001b[39m pd\u001b[38;5;241m.\u001b[39mDataFrame(Avg_Output, columns\u001b[38;5;241m=\u001b[39m[\u001b[38;5;124m'\u001b[39m\u001b[38;5;124mState\u001b[39m\u001b[38;5;124m'\u001b[39m,\u001b[38;5;124m'\u001b[39m\u001b[38;5;124mMonth\u001b[39m\u001b[38;5;124m'\u001b[39m,\u001b[38;5;124m'\u001b[39m\u001b[38;5;124mOptimal Staff_AvgCase\u001b[39m\u001b[38;5;124m'\u001b[39m,\u001b[38;5;124m'\u001b[39m\u001b[38;5;124mOut_Appl_AvgCase\u001b[39m\u001b[38;5;124m'\u001b[39m])\n\u001b[1;32m      2\u001b[0m Avg_Output\n",
      "\u001b[0;31mNameError\u001b[0m: name 'Avg_Output' is not defined"
     ]
    }
   ],
   "source": [
    "Avg_Output = pd.DataFrame(Avg_Output, columns=['State','Month','Optimal Staff_AvgCase','Out_Appl_AvgCase'])\n",
    "Avg_Output\n"
   ]
  },
  {
   "cell_type": "code",
   "execution_count": 65,
   "id": "bd5b3347",
   "metadata": {},
   "outputs": [],
   "source": [
    "# Importing the required library\n",
    "from openpyxl import load_workbook"
   ]
  },
  {
   "cell_type": "code",
   "execution_count": 66,
   "id": "9ef25f0b",
   "metadata": {},
   "outputs": [
    {
     "ename": "NameError",
     "evalue": "name 'Avg_Output' is not defined",
     "output_type": "error",
     "traceback": [
      "\u001b[0;31m---------------------------------------------------------------------------\u001b[0m",
      "\u001b[0;31mNameError\u001b[0m                                 Traceback (most recent call last)",
      "Cell \u001b[0;32mIn[66], line 16\u001b[0m\n\u001b[1;32m     12\u001b[0m writer\u001b[38;5;241m.\u001b[39mbook \u001b[38;5;241m=\u001b[39m book\n\u001b[1;32m     15\u001b[0m \u001b[38;5;66;03m# write dataframe to excel sheet named 'output'\u001b[39;00m\n\u001b[0;32m---> 16\u001b[0m Avg_Output\u001b[38;5;241m.\u001b[39mto_excel(writer, sheet_name\u001b[38;5;241m=\u001b[39m\u001b[38;5;124m'\u001b[39m\u001b[38;5;124mOutput_Staff_Planning_Avg\u001b[39m\u001b[38;5;124m'\u001b[39m)\n\u001b[1;32m     20\u001b[0m \u001b[38;5;66;03m# save the excel file\u001b[39;00m\n\u001b[1;32m     21\u001b[0m writer\u001b[38;5;241m.\u001b[39msave()\n",
      "\u001b[0;31mNameError\u001b[0m: name 'Avg_Output' is not defined"
     ]
    }
   ],
   "source": [
    "# Writing the results in to an Excel sheet\n",
    "# Writing the output data into an Excel sheet named \"Staffing_Data.xlsx\" workbook\n",
    "\n",
    "\n",
    "book = load_workbook(\"/Users/rolanddelarosa/Desktop/StaffInsurance.xlsx\")\n",
    "\n",
    "# create excel writer object\n",
    "writer = pd.ExcelWriter(\"/Users/rolanddelarosa/Desktop/StaffInsurance.xlsx\", engine = 'openpyxl')\n",
    "\n",
    "\n",
    "#Assigning the workbook to the writer object\n",
    "writer.book = book\n",
    "\n",
    "\n",
    "# write dataframe to excel sheet named 'output'\n",
    "Avg_Output.to_excel(writer, sheet_name='Output_Staff_Planning_Avg')\n",
    "\n",
    "\n",
    "\n",
    "# save the excel file\n",
    "writer.save()\n",
    "print('DataFrame is written successfully to Excel Sheet.')"
   ]
  },
  {
   "cell_type": "code",
   "execution_count": null,
   "id": "e4eec439",
   "metadata": {},
   "outputs": [],
   "source": [
    "# creating dataframe to record the Overall output of Average Scenario for further scenario\n",
    "\n",
    "from statistics import mean\n",
    "final_output = []\n",
    "appl_cost = 0\n",
    "out_appl = 0\n",
    "for l in model.location:\n",
    "    for m in model.months:\n",
    "            \n",
    "            cost_per_appl=((model.y[l,m].value*model.outsourcecost[l,m])+(model.x[l,m].value*model.staffsalary[l,m]))/model.d[l,m]\n",
    "            appl_cost+=cost_per_appl\n",
    "            final_output.append(cost_per_appl)\n",
    "            out_appl+= model.y[l,m].value\n",
    "            \n",
    "base_mean = mean(final_output)\n",
    "overall_df = pd.DataFrame(data={(round(base_mean,1),round(appl_cost,1),round(base_cost,2),round(out_appl,))},index=['Base Scenario'],columns=['Avg_cost_per_appl','tot_cost_per_appl','Overall Cost_in $mio','Outsource_Appl_count'])\n",
    "overall_df"
   ]
  },
  {
   "cell_type": "code",
   "execution_count": null,
   "id": "8c2b0354",
   "metadata": {},
   "outputs": [],
   "source": []
  }
 ],
 "metadata": {
  "kernelspec": {
   "display_name": "Python 3 (ipykernel)",
   "language": "python",
   "name": "python3"
  },
  "language_info": {
   "codemirror_mode": {
    "name": "ipython",
    "version": 3
   },
   "file_extension": ".py",
   "mimetype": "text/x-python",
   "name": "python",
   "nbconvert_exporter": "python",
   "pygments_lexer": "ipython3",
   "version": "3.11.4"
  }
 },
 "nbformat": 4,
 "nbformat_minor": 5
}
